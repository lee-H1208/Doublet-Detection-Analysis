{
 "cells": [
  {
   "cell_type": "markdown",
   "id": "c58b17ad-b93f-4713-8f36-9a7f3f26d8ba",
   "metadata": {},
   "source": [
    "## Doublet Removal - Pseudo Doublets"
   ]
  },
  {
   "cell_type": "code",
   "execution_count": 5,
   "id": "201e3e96-6a77-4c30-89af-cc28d1c931b0",
   "metadata": {},
   "outputs": [
    {
     "name": "stdout",
     "output_type": "stream",
     "text": [
      "scanpy==1.10.3 anndata==0.11.0 umap==0.5.7 numpy==1.26.4 scipy==1.14.1 pandas==2.2.3 scikit-learn==1.5.2 statsmodels==0.14.4 igraph==0.11.8 louvain==0.8.2 pynndescent==0.5.13\n"
     ]
    }
   ],
   "source": [
    "import scanpy as sc\n",
    "import numpy as np\n",
    "import pandas as pd\n",
    "from matplotlib import rcParams\n",
    "import matplotlib.pyplot as plt\n",
    "%matplotlib inline\n",
    "import scipy\n",
    "import os\n",
    "import anndata\n",
    "\n",
    "sc.settings.verbosity = 3             # verbosity: errors (0), warnings (1), info (2), hints (3)\n",
    "sc.logging.print_header()\n",
    "sc.settings.set_figure_params(dpi=80, facecolor='white')\n",
    "\n",
    "# data files are in the filtered matrix folder from CellRanger which has been renamed to the sample name\n",
    "sample_name = r'sc85_1g' #r'sc70_1' #r'sc72_1'\n",
    "data_path = r\"../raw_data/\"\n",
    "data_files_path = data_path + sample_name + r\"\"\n",
    "\n",
    "results_path = 'results/'\n",
    "results_file = results_path + sample_name + '-db.h5ad'  # the file that will store the analysis results\n",
    "metrics_file = results_path + sample_name + '_db_metrics.csv'  # the file that will store the metrics\n",
    "# make results folder if it doesn't exist\n",
    "if not os.path.exists(results_path):\n",
    "    os.makedirs(results_path, exist_ok=False)"
   ]
  },
  {
   "cell_type": "markdown",
   "id": "765282f6-816a-40d2-8442-7c06b77d81d3",
   "metadata": {},
   "source": [
    "#### Setup R environment"
   ]
  },
  {
   "cell_type": "code",
   "execution_count": 26,
   "id": "2fc091cc-8ffa-4959-aabc-c932e56386e5",
   "metadata": {},
   "outputs": [
    {
     "name": "stderr",
     "output_type": "stream",
     "text": [
      "C:\\Users\\leeh1\\AppData\\Local\\Temp\\ipykernel_11376\\364680306.py:9: DeprecationWarning: The global conversion available with activate() is deprecated and will be removed in the next major release. Use a local converter.\n",
      "  anndata2ri.activate()\n",
      "C:\\Users\\leeh1\\McKinnonRosatiLab\\jl\\lib\\site-packages\\rpy2\\robjects\\packages.py:367: UserWarning: The symbol 'quartz' is not in this R namespace/package.\n",
      "  warnings.warn(\n"
     ]
    }
   ],
   "source": [
    "import os\n",
    "os.environ['R_HOME'] = r\"C:\\Program Files\\R\\R-4.4.2\"  \n",
    "import anndata2ri # order matters, comes after defining 'R_HOME\n",
    "import logging\n",
    "import rpy2.rinterface_lib.callbacks as rcb\n",
    "import rpy2.robjects as ro\n",
    "rcb.logger.setLevel(logging.ERROR)\n",
    "ro.pandas2ri.activate()\n",
    "anndata2ri.activate()\n",
    "\n",
    "%reload_ext rpy2.ipython"
   ]
  },
  {
   "cell_type": "code",
   "execution_count": 27,
   "id": "78b2635b-bbc3-4c50-a277-0ff12faf1c2e",
   "metadata": {},
   "outputs": [
    {
     "name": "stdout",
     "output_type": "stream",
     "text": [
      "\n",
      "    WARNING: The R package \"reticulate\" only fixed recently\n",
      "    an issue that caused a segfault when used with rpy2:\n",
      "    https://github.com/rstudio/reticulate/pull/1188\n",
      "    Make sure that you use a version of that package that includes\n",
      "    the fix.\n",
      "    "
     ]
    },
    {
     "data": {
      "text/plain": [
       "Loading required package: SeuratObject\n",
       "Loading required package: sp\n",
       "\n",
       "Attaching package: 'SeuratObject'\n",
       "\n",
       "The following objects are masked from 'package:base':\n",
       "\n",
       "    intersect, t\n",
       "\n",
       "Loading required package: SingleCellExperiment\n",
       "Loading required package: SummarizedExperiment\n",
       "Loading required package: MatrixGenerics\n",
       "Loading required package: matrixStats\n",
       "\n",
       "Attaching package: 'MatrixGenerics'\n",
       "\n",
       "The following objects are masked from 'package:matrixStats':\n",
       "\n",
       "    colAlls, colAnyNAs, colAnys, colAvgsPerRowSet, colCollapse,\n",
       "    colCounts, colCummaxs, colCummins, colCumprods, colCumsums,\n",
       "    colDiffs, colIQRDiffs, colIQRs, colLogSumExps, colMadDiffs,\n",
       "    colMads, colMaxs, colMeans2, colMedians, colMins, colOrderStats,\n",
       "    colProds, colQuantiles, colRanges, colRanks, colSdDiffs, colSds,\n",
       "    colSums2, colTabulates, colVarDiffs, colVars, colWeightedMads,\n",
       "    colWeightedMeans, colWeightedMedians, colWeightedSds,\n",
       "    colWeightedVars, rowAlls, rowAnyNAs, rowAnys, rowAvgsPerColSet,\n",
       "    rowCollapse, rowCounts, rowCummaxs, rowCummins, rowCumprods,\n",
       "    rowCumsums, rowDiffs, rowIQRDiffs, rowIQRs, rowLogSumExps,\n",
       "    rowMadDiffs, rowMads, rowMaxs, rowMeans2, rowMedians, rowMins,\n",
       "    rowOrderStats, rowProds, rowQuantiles, rowRanges, rowRanks,\n",
       "    rowSdDiffs, rowSds, rowSums2, rowTabulates, rowVarDiffs, rowVars,\n",
       "    rowWeightedMads, rowWeightedMeans, rowWeightedMedians,\n",
       "    rowWeightedSds, rowWeightedVars\n",
       "\n",
       "Loading required package: GenomicRanges\n",
       "Loading required package: stats4\n",
       "Loading required package: BiocGenerics\n",
       "\n",
       "Attaching package: 'BiocGenerics'\n",
       "\n",
       "The following object is masked from 'package:SeuratObject':\n",
       "\n",
       "    intersect\n",
       "\n",
       "The following objects are masked from 'package:stats':\n",
       "\n",
       "    IQR, mad, sd, var, xtabs\n",
       "\n",
       "The following objects are masked from 'package:base':\n",
       "\n",
       "    anyDuplicated, aperm, append, as.data.frame, basename, cbind,\n",
       "    colnames, dirname, do.call, duplicated, eval, evalq, Filter, Find,\n",
       "    get, grep, grepl, intersect, is.unsorted, lapply, Map, mapply,\n",
       "    match, mget, order, paste, pmax, pmax.int, pmin, pmin.int,\n",
       "    Position, rank, rbind, Reduce, rownames, sapply, saveRDS, setdiff,\n",
       "    table, tapply, union, unique, unsplit, which.max, which.min\n",
       "\n",
       "Loading required package: S4Vectors\n",
       "\n",
       "Attaching package: 'S4Vectors'\n",
       "\n",
       "The following object is masked from 'package:utils':\n",
       "\n",
       "    findMatches\n",
       "\n",
       "The following objects are masked from 'package:base':\n",
       "\n",
       "    expand.grid, I, unname\n",
       "\n",
       "Loading required package: IRanges\n",
       "\n",
       "Attaching package: 'IRanges'\n",
       "\n",
       "The following object is masked from 'package:sp':\n",
       "\n",
       "    %over%\n",
       "\n",
       "The following object is masked from 'package:grDevices':\n",
       "\n",
       "    windows\n",
       "\n",
       "Loading required package: GenomeInfoDb\n",
       "Loading required package: Biobase\n",
       "Welcome to Bioconductor\n",
       "\n",
       "    Vignettes contain introductory material; view with\n",
       "    'browseVignettes()'. To cite Bioconductor, see\n",
       "    'citation(\"Biobase\")', and for packages 'citation(\"pkgname\")'.\n",
       "\n",
       "\n",
       "Attaching package: 'Biobase'\n",
       "\n",
       "The following object is masked from 'package:MatrixGenerics':\n",
       "\n",
       "    rowMedians\n",
       "\n",
       "The following objects are masked from 'package:matrixStats':\n",
       "\n",
       "    anyMissing, rowMedians\n",
       "\n",
       "\n",
       "Attaching package: 'SummarizedExperiment'\n",
       "\n",
       "The following object is masked from 'package:Seurat':\n",
       "\n",
       "    Assays\n",
       "\n",
       "The following object is masked from 'package:SeuratObject':\n",
       "\n",
       "    Assays\n",
       "\n",
       "Loading required package: scuttle\n",
       "Loading required package: ggplot2\n"
      ]
     },
     "metadata": {},
     "output_type": "display_data"
    }
   ],
   "source": [
    "%%R\n",
    ".libPaths(c(\"C:/Users/leeh1/AppData/Local/R/win-library/4.4\", .libPaths()))\n",
    "library(Seurat)\n",
    "library(scater)\n",
    "library(scDblFinder)\n",
    "library(BiocParallel)"
   ]
  },
  {
   "cell_type": "markdown",
   "id": "58c74e67-67f3-465c-a094-d966c8feb4d9",
   "metadata": {},
   "source": [
    "#### Load data"
   ]
  },
  {
   "cell_type": "markdown",
   "id": "9cf502c3-b52c-4dc8-bf2d-9b63851fb170",
   "metadata": {},
   "source": [
    "Read in count data into an [`AnnData`](https://anndata.readthedocs.io/en/latest/anndata.AnnData.html) object.  \n",
    "The matrix.mtx file contains a sparse matrix of the counts.  \n",
    "Barcodes file contains the sample names in the format: AAACCCAAGACCATAA-1  \n",
    "Features file contains the gene id in the format: ENSMUSG00000051951, Xkr4, Gene Expression\n",
    "\n",
    "The number of counts per cell will be relatively low since only UMIs are counted by Cellranger"
   ]
  },
  {
   "cell_type": "code",
   "execution_count": 6,
   "id": "8c8d560c-0e18-47c0-9249-db0258808305",
   "metadata": {},
   "outputs": [
    {
     "name": "stdout",
     "output_type": "stream",
     "text": [
      "... writing an h5ad cache file to speedup reading next time\n",
      "Data matrix is sparse: True\n",
      "\n",
      "Index(['AAACAGCCAACCGCCA_sc85_1g', 'AAACAGCCAAGGTATA_sc85_1g'], dtype='object')\n",
      "\n",
      "Number of cells = 15,830\n",
      "Number of genes = 36,530\n",
      "Number of counts = 13,291,714\n",
      "Mean counts per cell = 840\n"
     ]
    },
    {
     "data": {
      "text/plain": [
       "AnnData object with n_obs × n_vars = 15830 × 36530\n",
       "    var: 'gene_ids', 'feature_types'"
      ]
     },
     "execution_count": 6,
     "metadata": {},
     "output_type": "execute_result"
    }
   ],
   "source": [
    "adata = sc.read_10x_mtx(\n",
    "    data_files_path,              # the directory with the `.mtx` file\n",
    "    var_names='gene_symbols',     # use gene symbols for the variable names (variables-axis index)\n",
    "    cache=True)                   # write a cache file for faster subsequent reading\n",
    "\n",
    "# adata.var_names_make_unique()  # this is unnecessary if using `var_names='gene_ids'` in `sc.read_10x_mtx`\n",
    "print('Data matrix is sparse:', scipy.sparse.issparse(adata.X))\n",
    "print()\n",
    "\n",
    "# make the obs names unique by adding the sample name\n",
    "adata.obs_names = [g.split(\"-\")[0] + '_' + sample_name for g in adata.obs_names]\n",
    "print(adata.obs_names[0:2])\n",
    "print()\n",
    "print('Number of cells =', f\"{adata.n_obs:,.0f}\")\n",
    "print('Number of genes =', f\"{adata.n_vars:,.0f}\")\n",
    "print('Number of counts =', f\"{adata.X.sum():,.0f}\")\n",
    "print('Mean counts per cell =', f\"{adata.X.sum()/adata.n_obs:,.0f}\")\n",
    "adata"
   ]
  },
  {
   "cell_type": "code",
   "execution_count": 7,
   "id": "b8335054-4efe-4510-8337-a42ef4c6c70a",
   "metadata": {},
   "outputs": [
    {
     "name": "stderr",
     "output_type": "stream",
     "text": [
      "C:\\Users\\leeh1\\AppData\\Local\\Temp\\ipykernel_11376\\1815972615.py:8: FutureWarning: DataFrame.applymap has been deprecated. Use DataFrame.map instead.\n",
      "  df_metrics.iloc[:, 1:] = df_metrics.iloc[:,1:].applymap('{:,.0f}'.format)\n",
      "C:\\Users\\leeh1\\AppData\\Local\\Temp\\ipykernel_11376\\1815972615.py:8: FutureWarning: Setting an item of incompatible dtype is deprecated and will raise in a future error of pandas. Value '0    36,530\n",
      "Name: Number of genes, dtype: object' has dtype incompatible with float64, please explicitly cast to a compatible dtype first.\n",
      "  df_metrics.iloc[:, 1:] = df_metrics.iloc[:,1:].applymap('{:,.0f}'.format)\n",
      "C:\\Users\\leeh1\\AppData\\Local\\Temp\\ipykernel_11376\\1815972615.py:8: FutureWarning: Setting an item of incompatible dtype is deprecated and will raise in a future error of pandas. Value '0    13,291,714\n",
      "Name: Number of counts, dtype: object' has dtype incompatible with float64, please explicitly cast to a compatible dtype first.\n",
      "  df_metrics.iloc[:, 1:] = df_metrics.iloc[:,1:].applymap('{:,.0f}'.format)\n",
      "C:\\Users\\leeh1\\AppData\\Local\\Temp\\ipykernel_11376\\1815972615.py:8: FutureWarning: Setting an item of incompatible dtype is deprecated and will raise in a future error of pandas. Value '0    840\n",
      "Name: Mean counts per cell, dtype: object' has dtype incompatible with float64, please explicitly cast to a compatible dtype first.\n",
      "  df_metrics.iloc[:, 1:] = df_metrics.iloc[:,1:].applymap('{:,.0f}'.format)\n"
     ]
    },
    {
     "data": {
      "text/html": [
       "<div>\n",
       "<style scoped>\n",
       "    .dataframe tbody tr th:only-of-type {\n",
       "        vertical-align: middle;\n",
       "    }\n",
       "\n",
       "    .dataframe tbody tr th {\n",
       "        vertical-align: top;\n",
       "    }\n",
       "\n",
       "    .dataframe thead th {\n",
       "        text-align: right;\n",
       "    }\n",
       "</style>\n",
       "<table border=\"1\" class=\"dataframe\">\n",
       "  <thead>\n",
       "    <tr style=\"text-align: right;\">\n",
       "      <th></th>\n",
       "      <th>Number of cells</th>\n",
       "      <th>Number of genes</th>\n",
       "      <th>Number of counts</th>\n",
       "      <th>Mean counts per cell</th>\n",
       "    </tr>\n",
       "  </thead>\n",
       "  <tbody>\n",
       "    <tr>\n",
       "      <th>sc85_1g</th>\n",
       "      <td>15830.0</td>\n",
       "      <td>36,530</td>\n",
       "      <td>13,291,714</td>\n",
       "      <td>840</td>\n",
       "    </tr>\n",
       "  </tbody>\n",
       "</table>\n",
       "</div>"
      ],
      "text/plain": [
       "         Number of cells Number of genes Number of counts Mean counts per cell\n",
       "sc85_1g          15830.0          36,530       13,291,714                  840"
      ]
     },
     "execution_count": 7,
     "metadata": {},
     "output_type": "execute_result"
    }
   ],
   "source": [
    "n_cells = adata.n_obs\n",
    "n_genes = adata.n_vars\n",
    "n_counts = adata.X.sum()    \n",
    "counts_per_cell = round(n_counts / n_cells)\n",
    "\n",
    "df_metrics = pd.DataFrame([n_cells, n_genes, n_counts, counts_per_cell], \\\n",
    "                  index = ['Number of cells', 'Number of genes', 'Number of counts','Mean counts per cell']).T\n",
    "df_metrics.iloc[:, 1:] = df_metrics.iloc[:,1:].applymap('{:,.0f}'.format)\n",
    "df_metrics.index = [sample_name]\n",
    "df_metrics"
   ]
  },
  {
   "cell_type": "markdown",
   "id": "e73cd11c-67a3-4417-ae87-d0af9179779b",
   "metadata": {},
   "source": [
    "### Import Doublet IDs"
   ]
  },
  {
   "cell_type": "code",
   "execution_count": 9,
   "id": "9d4d7171-a502-4d1c-8d4e-219a6675dfb8",
   "metadata": {},
   "outputs": [
    {
     "name": "stdout",
     "output_type": "stream",
     "text": [
      "4753\n"
     ]
    }
   ],
   "source": [
    "doublets = np.load('doublets_sc85_1g.npy')\n",
    "print(len(doublets))"
   ]
  },
  {
   "cell_type": "markdown",
   "id": "eef39f41-3ea9-4975-9f77-9c76f0bf3882",
   "metadata": {},
   "source": [
    "### Isolating Singlets"
   ]
  },
  {
   "cell_type": "code",
   "execution_count": 17,
   "id": "9a85410a-62c8-41df-8b3c-fab1b5f72fe5",
   "metadata": {},
   "outputs": [],
   "source": [
    "adata.obs['doublet_class'] = [1.0 if name in doublets else 0.0 for name in adata.obs_names]"
   ]
  },
  {
   "cell_type": "code",
   "execution_count": 18,
   "id": "b1a4ff56-6f73-417d-8f05-65e0ae6ce35c",
   "metadata": {},
   "outputs": [
    {
     "name": "stdout",
     "output_type": "stream",
     "text": [
      "AAACAGCCAACCGCCA_sc85_1g    0.0\n",
      "AAACAGCCAAGGTATA_sc85_1g    1.0\n",
      "AAACAGCCAATAGCAA_sc85_1g    1.0\n",
      "AAACAGCCACCAGGTT_sc85_1g    1.0\n",
      "AAACAGCCATGAATCT_sc85_1g    0.0\n",
      "                           ... \n",
      "TTTGTTGGTTAAGTGT_sc85_1g    0.0\n",
      "TTTGTTGGTTACGCGG_sc85_1g    0.0\n",
      "TTTGTTGGTTAGGATT_sc85_1g    0.0\n",
      "TTTGTTGGTTGCCTCA_sc85_1g    0.0\n",
      "TTTGTTGGTTGGCGTG_sc85_1g    0.0\n",
      "Name: doublet_class, Length: 15830, dtype: float64\n"
     ]
    }
   ],
   "source": [
    "print(adata.obs['doublet_class'])"
   ]
  },
  {
   "cell_type": "code",
   "execution_count": 30,
   "id": "c95e64de-f80d-4a18-9eb7-c07eff4bc3a5",
   "metadata": {},
   "outputs": [],
   "source": [
    "bdata = adata[adata.obs['doublet_class'] == 0.0].copy()"
   ]
  },
  {
   "cell_type": "code",
   "execution_count": 31,
   "id": "70e02576-3b8f-4975-86dd-54ed18e2e487",
   "metadata": {},
   "outputs": [
    {
     "name": "stdout",
     "output_type": "stream",
     "text": [
      "11077\n"
     ]
    }
   ],
   "source": [
    "print(len(bdata))"
   ]
  },
  {
   "cell_type": "markdown",
   "id": "c54cba8a-0964-41bd-b774-9c88ad2f777a",
   "metadata": {},
   "source": [
    "## Creating Pseudo Doublets"
   ]
  },
  {
   "cell_type": "code",
   "execution_count": 32,
   "id": "1ad58323-4f60-4de6-b75c-0ef687636e66",
   "metadata": {},
   "outputs": [
    {
     "name": "stdout",
     "output_type": "stream",
     "text": [
      "Number of pseudo_doublets to be generated: 1107\n"
     ]
    }
   ],
   "source": [
    "singlet_data = bdata.X.T\n",
    "n_pseudo_doubs = int(0.1 * bdata.shape[0])\n",
    "print(\"Number of pseudo_doublets to be generated: \" + str(n_pseudo_doubs))"
   ]
  },
  {
   "cell_type": "code",
   "execution_count": 33,
   "id": "334ae9a6-0942-49da-9651-b324bd0970b6",
   "metadata": {},
   "outputs": [
    {
     "name": "stdout",
     "output_type": "stream",
     "text": [
      "Formal class 'dgCMatrix' [package \"Matrix\"] with 6 slots\n",
      "  ..@ i       : int [1:975229] 19 42 86 104 127 170 180 205 224 231 ...\n",
      "  ..@ p       : int [1:1108] 0 1030 2060 2779 3675 4429 5328 6257 6913 7848 ...\n",
      "  ..@ Dim     : int [1:2] 25051 1107\n",
      "  ..@ Dimnames:List of 2\n",
      "  .. ..$ : NULL\n",
      "  .. ..$ : chr [1:1107] \"rDbl.1\" \"rDbl.2\" \"rDbl.3\" \"rDbl.4\" ...\n",
      "  ..@ x       : num [1:975229] 1 1 1 1 1 1 1 2 1 1 ...\n",
      "  ..@ factors : list()\n",
      " chr [1:1107] \"rDbl.1\" \"rDbl.2\" \"rDbl.3\" \"rDbl.4\" \"rDbl.5\" \"rDbl.6\" ...\n"
     ]
    }
   ],
   "source": [
    "%%R -i singlet_data -i n_pseudo_doubs -o pseudo_doublets -o pd_count_matrix -o names\n",
    "\n",
    "pseudo_doublets = getArtificialDoublets(\n",
    "    x=singlet_data,   \n",
    "    n=n_pseudo_doubs,  \n",
    "    resamp=0.1, \n",
    "    propRandom=0,  \n",
    "    selMode=\"proportional\",  \n",
    "    meta.triplets=FALSE  \n",
    ")\n",
    "\n",
    "pd_count_matrix <- pseudo_doublets$counts\n",
    "str(pd_count_matrix)\n",
    "names <- pd_count_matrix@Dimnames[[2]]\n",
    "str(names)"
   ]
  },
  {
   "cell_type": "code",
   "execution_count": 34,
   "id": "5075478d-a00e-40ad-91e4-999ecc0ee569",
   "metadata": {},
   "outputs": [
    {
     "name": "stdout",
     "output_type": "stream",
     "text": [
      "pd_count_matrix shape: <Compressed Sparse Column sparse matrix of dtype 'float64'\n",
      "\twith 975229 stored elements and shape (25051, 1107)>\n",
      "  Coords\tValues\n",
      "  (19, 0)\t1.0\n",
      "  (42, 0)\t1.0\n",
      "  (86, 0)\t1.0\n",
      "  (104, 0)\t1.0\n",
      "  (127, 0)\t1.0\n",
      "  (170, 0)\t1.0\n",
      "  (180, 0)\t1.0\n",
      "  (205, 0)\t2.0\n",
      "  (224, 0)\t1.0\n",
      "  (231, 0)\t1.0\n",
      "  (314, 0)\t1.0\n",
      "  (337, 0)\t1.0\n",
      "  (350, 0)\t1.0\n",
      "  (406, 0)\t1.0\n",
      "  (437, 0)\t2.0\n",
      "  (449, 0)\t1.0\n",
      "  (478, 0)\t1.0\n",
      "  (480, 0)\t1.0\n",
      "  (499, 0)\t1.0\n",
      "  (544, 0)\t1.0\n",
      "  (550, 0)\t1.0\n",
      "  (608, 0)\t1.0\n",
      "  (610, 0)\t1.0\n",
      "  (634, 0)\t1.0\n",
      "  (664, 0)\t2.0\n",
      "  :\t:\n",
      "  (24254, 1106)\t0.5\n",
      "  (24355, 1106)\t0.5\n",
      "  (24409, 1106)\t0.5\n",
      "  (24562, 1106)\t2.0\n",
      "  (24567, 1106)\t0.5\n",
      "  (24617, 1106)\t0.5\n",
      "  (24687, 1106)\t0.5\n",
      "  (24792, 1106)\t0.5\n",
      "  (24839, 1106)\t1.0\n",
      "  (24908, 1106)\t0.5\n",
      "  (24911, 1106)\t0.5\n",
      "  (25011, 1106)\t0.5\n",
      "  (25015, 1106)\t19.0\n",
      "  (25017, 1106)\t47.5\n",
      "  (25019, 1106)\t1.5\n",
      "  (25023, 1106)\t1.0\n",
      "  (25029, 1106)\t1.0\n",
      "  (25032, 1106)\t6.0\n",
      "  (25034, 1106)\t0.5\n",
      "  (25035, 1106)\t3.0\n",
      "  (25036, 1106)\t3.0\n",
      "  (25037, 1106)\t2.0\n",
      "  (25040, 1106)\t0.5\n",
      "  (25044, 1106)\t0.5\n",
      "  (25047, 1106)\t3.5\n"
     ]
    }
   ],
   "source": [
    "print(\"pd_count_matrix shape:\", pd_count_matrix)"
   ]
  },
  {
   "cell_type": "code",
   "execution_count": 35,
   "id": "9231a1de-3eed-4462-923d-2a21e4613eda",
   "metadata": {},
   "outputs": [
    {
     "name": "stdout",
     "output_type": "stream",
     "text": [
      "names ['rDbl.1' 'rDbl.2' 'rDbl.3' ... 'rDbl.1105' 'rDbl.1106' 'rDbl.1107']\n"
     ]
    }
   ],
   "source": [
    "print(\"names\", names)"
   ]
  },
  {
   "cell_type": "markdown",
   "id": "c2d10290-eae9-4618-b16e-530677f0d915",
   "metadata": {},
   "source": [
    "#### Checking `bdata`"
   ]
  },
  {
   "cell_type": "code",
   "execution_count": 36,
   "id": "87993680-65d5-4697-b771-ca45a04d2d38",
   "metadata": {},
   "outputs": [
    {
     "name": "stdout",
     "output_type": "stream",
     "text": [
      "<Compressed Sparse Column sparse matrix of dtype 'float32'\n",
      "\twith 5434695 stored elements and shape (11077, 25051)>\n",
      "  Coords\tValues\n",
      "  (4530, 0)\t1.0\n",
      "  (6108, 0)\t1.0\n",
      "  (6236, 0)\t1.0\n",
      "  (7478, 0)\t1.0\n",
      "  (7906, 0)\t1.0\n",
      "  (8707, 0)\t1.0\n",
      "  (7653, 2)\t1.0\n",
      "  (10528, 4)\t1.0\n",
      "  (9, 5)\t1.0\n",
      "  (218, 5)\t1.0\n",
      "  (829, 5)\t1.0\n",
      "  (927, 5)\t1.0\n",
      "  (1080, 5)\t1.0\n",
      "  (1315, 5)\t1.0\n",
      "  (1457, 5)\t1.0\n",
      "  (1827, 5)\t1.0\n",
      "  (2542, 5)\t1.0\n",
      "  (2570, 5)\t1.0\n",
      "  (2768, 5)\t1.0\n",
      "  (2912, 5)\t1.0\n",
      "  (3050, 5)\t1.0\n",
      "  (3624, 5)\t1.0\n",
      "  (3667, 5)\t1.0\n",
      "  (3692, 5)\t1.0\n",
      "  (4559, 5)\t1.0\n",
      "  :\t:\n",
      "  (2836, 25050)\t1.0\n",
      "  (2855, 25050)\t1.0\n",
      "  (2877, 25050)\t1.0\n",
      "  (3721, 25050)\t1.0\n",
      "  (4567, 25050)\t1.0\n",
      "  (4699, 25050)\t1.0\n",
      "  (4727, 25050)\t1.0\n",
      "  (4825, 25050)\t1.0\n",
      "  (5319, 25050)\t1.0\n",
      "  (5967, 25050)\t1.0\n",
      "  (6073, 25050)\t1.0\n",
      "  (6201, 25050)\t1.0\n",
      "  (6377, 25050)\t1.0\n",
      "  (6836, 25050)\t1.0\n",
      "  (6954, 25050)\t1.0\n",
      "  (7014, 25050)\t1.0\n",
      "  (7362, 25050)\t1.0\n",
      "  (8248, 25050)\t1.0\n",
      "  (8276, 25050)\t1.0\n",
      "  (8510, 25050)\t1.0\n",
      "  (8850, 25050)\t1.0\n",
      "  (9598, 25050)\t1.0\n",
      "  (10063, 25050)\t1.0\n",
      "  (10618, 25050)\t1.0\n",
      "  (10821, 25050)\t1.0\n"
     ]
    }
   ],
   "source": [
    "print(bdata.X)"
   ]
  },
  {
   "cell_type": "markdown",
   "id": "76b58d7f-c05f-4d0c-979c-d409fecc8782",
   "metadata": {},
   "source": [
    "#### Creating `pseudo_doublet_adata`"
   ]
  },
  {
   "cell_type": "code",
   "execution_count": 37,
   "id": "fa5377d5-1dcc-4ae9-8ac9-7b12d8b23fe4",
   "metadata": {},
   "outputs": [],
   "source": [
    "import anndata\n",
    "pseudo_doublet_adata = anndata.AnnData(pd_count_matrix)\n",
    "pseudo_doublet_adata = pseudo_doublet_adata.T\n",
    "pseudo_doublet_adata.obs_names = names\n",
    "pseudo_doublet_adata.var_names = bdata.var_names\n",
    "pseudo_doublet_adata.obs[\"doublet\"] = 1.0"
   ]
  },
  {
   "cell_type": "code",
   "execution_count": 38,
   "id": "7fd1adde-a234-4808-8b26-4cca8bd866bf",
   "metadata": {},
   "outputs": [
    {
     "name": "stdout",
     "output_type": "stream",
     "text": [
      "(1107, 25051)\n",
      "Index(['rDbl.1', 'rDbl.2', 'rDbl.3', 'rDbl.4', 'rDbl.5', 'rDbl.6', 'rDbl.7',\n",
      "       'rDbl.8', 'rDbl.9', 'rDbl.10',\n",
      "       ...\n",
      "       'rDbl.1098', 'rDbl.1099', 'rDbl.1100', 'rDbl.1101', 'rDbl.1102',\n",
      "       'rDbl.1103', 'rDbl.1104', 'rDbl.1105', 'rDbl.1106', 'rDbl.1107'],\n",
      "      dtype='object', length=1107)\n",
      "Index(['LOC139071432', 'LOC107385520', 'LOC139072245', 'LOC139063175',\n",
      "       'LOC139064302', 'LOC139072279', 'LOC129159217', 'LOC139071444',\n",
      "       'LOC129160091', 'LOC107372990',\n",
      "       ...\n",
      "       'KEG92_t17', 'KEG92_t18', 'KEG92_t19', 'KEG92_p03', 'KEG92_p02',\n",
      "       'KEG92_t20', 'KEG92_p01', 'KEG92_t21', 'KEG92_t22', 'KEG92_t23'],\n",
      "      dtype='object', length=25051)\n",
      "           doublet\n",
      "rDbl.1         1.0\n",
      "rDbl.2         1.0\n",
      "rDbl.3         1.0\n",
      "rDbl.4         1.0\n",
      "rDbl.5         1.0\n",
      "...            ...\n",
      "rDbl.1103      1.0\n",
      "rDbl.1104      1.0\n",
      "rDbl.1105      1.0\n",
      "rDbl.1106      1.0\n",
      "rDbl.1107      1.0\n",
      "\n",
      "[1107 rows x 1 columns]\n",
      "<Compressed Sparse Row sparse matrix of dtype 'float64'\n",
      "\twith 975229 stored elements and shape (1107, 25051)>\n",
      "  Coords\tValues\n",
      "  (0, 19)\t1.0\n",
      "  (0, 42)\t1.0\n",
      "  (0, 86)\t1.0\n",
      "  (0, 104)\t1.0\n",
      "  (0, 127)\t1.0\n",
      "  (0, 170)\t1.0\n",
      "  (0, 180)\t1.0\n",
      "  (0, 205)\t2.0\n",
      "  (0, 224)\t1.0\n",
      "  (0, 231)\t1.0\n",
      "  (0, 314)\t1.0\n",
      "  (0, 337)\t1.0\n",
      "  (0, 350)\t1.0\n",
      "  (0, 406)\t1.0\n",
      "  (0, 437)\t2.0\n",
      "  (0, 449)\t1.0\n",
      "  (0, 478)\t1.0\n",
      "  (0, 480)\t1.0\n",
      "  (0, 499)\t1.0\n",
      "  (0, 544)\t1.0\n",
      "  (0, 550)\t1.0\n",
      "  (0, 608)\t1.0\n",
      "  (0, 610)\t1.0\n",
      "  (0, 634)\t1.0\n",
      "  (0, 664)\t2.0\n",
      "  :\t:\n",
      "  (1106, 24254)\t0.5\n",
      "  (1106, 24355)\t0.5\n",
      "  (1106, 24409)\t0.5\n",
      "  (1106, 24562)\t2.0\n",
      "  (1106, 24567)\t0.5\n",
      "  (1106, 24617)\t0.5\n",
      "  (1106, 24687)\t0.5\n",
      "  (1106, 24792)\t0.5\n",
      "  (1106, 24839)\t1.0\n",
      "  (1106, 24908)\t0.5\n",
      "  (1106, 24911)\t0.5\n",
      "  (1106, 25011)\t0.5\n",
      "  (1106, 25015)\t19.0\n",
      "  (1106, 25017)\t47.5\n",
      "  (1106, 25019)\t1.5\n",
      "  (1106, 25023)\t1.0\n",
      "  (1106, 25029)\t1.0\n",
      "  (1106, 25032)\t6.0\n",
      "  (1106, 25034)\t0.5\n",
      "  (1106, 25035)\t3.0\n",
      "  (1106, 25036)\t3.0\n",
      "  (1106, 25037)\t2.0\n",
      "  (1106, 25040)\t0.5\n",
      "  (1106, 25044)\t0.5\n",
      "  (1106, 25047)\t3.5\n"
     ]
    }
   ],
   "source": [
    "print(pseudo_doublet_adata.shape)\n",
    "print(pseudo_doublet_adata.obs_names)\n",
    "print(pseudo_doublet_adata.var_names)\n",
    "print(pseudo_doublet_adata.obs)\n",
    "print(pseudo_doublet_adata.X)"
   ]
  },
  {
   "cell_type": "markdown",
   "id": "88820f55-4076-4000-a36b-e8ba51a337b8",
   "metadata": {},
   "source": [
    "#### Concatenating adata objects"
   ]
  },
  {
   "cell_type": "code",
   "execution_count": 39,
   "id": "51ca65da-ef3c-42db-bde6-b25386bc0d8d",
   "metadata": {},
   "outputs": [],
   "source": [
    "adata_combined = anndata.concat([pseudo_doublet_adata, bdata], axis=0, join=\"inner\")"
   ]
  },
  {
   "cell_type": "code",
   "execution_count": 40,
   "id": "1b15b4e7-4dba-4ee0-a396-d4d3055c39c1",
   "metadata": {},
   "outputs": [
    {
     "name": "stdout",
     "output_type": "stream",
     "text": [
      "(12184, 25051)\n"
     ]
    }
   ],
   "source": [
    "print(adata_combined.shape)"
   ]
  },
  {
   "cell_type": "code",
   "execution_count": 41,
   "id": "45a97f1d-70ba-4f31-993c-aeb78a72fd89",
   "metadata": {},
   "outputs": [
    {
     "name": "stdout",
     "output_type": "stream",
     "text": [
      "Empty DataFrame\n",
      "Columns: []\n",
      "Index: [rDbl.1, rDbl.2, rDbl.3, rDbl.4, rDbl.5, rDbl.6, rDbl.7, rDbl.8, rDbl.9, rDbl.10, rDbl.11, rDbl.12, rDbl.13, rDbl.14, rDbl.15, rDbl.16, rDbl.17, rDbl.18, rDbl.19, rDbl.20, rDbl.21, rDbl.22, rDbl.23, rDbl.24, rDbl.25, rDbl.26, rDbl.27, rDbl.28, rDbl.29, rDbl.30, rDbl.31, rDbl.32, rDbl.33, rDbl.34, rDbl.35, rDbl.36, rDbl.37, rDbl.38, rDbl.39, rDbl.40, rDbl.41, rDbl.42, rDbl.43, rDbl.44, rDbl.45, rDbl.46, rDbl.47, rDbl.48, rDbl.49, rDbl.50, rDbl.51, rDbl.52, rDbl.53, rDbl.54, rDbl.55, rDbl.56, rDbl.57, rDbl.58, rDbl.59, rDbl.60, rDbl.61, rDbl.62, rDbl.63, rDbl.64, rDbl.65, rDbl.66, rDbl.67, rDbl.68, rDbl.69, rDbl.70, rDbl.71, rDbl.72, rDbl.73, rDbl.74, rDbl.75, rDbl.76, rDbl.77, rDbl.78, rDbl.79, rDbl.80, rDbl.81, rDbl.82, rDbl.83, rDbl.84, rDbl.85, rDbl.86, rDbl.87, rDbl.88, rDbl.89, rDbl.90, rDbl.91, rDbl.92, rDbl.93, rDbl.94, rDbl.95, rDbl.96, rDbl.97, rDbl.98, rDbl.99, rDbl.100, ...]\n",
      "\n",
      "[12184 rows x 0 columns]\n",
      "Empty DataFrame\n",
      "Columns: []\n",
      "Index: [LOC139071432, LOC107385520, LOC139072245, LOC139063175, LOC139064302, LOC139072279, LOC129159217, LOC139071444, LOC129160091, LOC107372990, LOC107374007, LOC107373397, LOC139061825, LOC139062201, acsl4a, nxt2, psmd10, xiap, stag2b, efnb1, LOC139063402, LOC139063644, LOC107378241, LOC107379485, zc4h2, LOC107380808, asb12b, LOC139066172, tenm1, LOC139066346, LOC139066357, sh2d1ab, LOC107389596, apool, si:ch211-26b3.4, hdx, rps6kal, LOC107383029, LOC139061497, LOC107397113, si:dkey-237j10.2, sh3bgrl, LOC107374700, LOC107374845, tbx22, LOC107375096, gpr174, p2ry10, lpar4, cysltr1, LOC107375731, polr1d, sybl1, mtus1a, pdgfrl, slc7a2, mtmr7a, cnot7, zdhhc2, micu3b, fgf20b, wu:fb74b10, her11, her5, smim19, pld7, gpr137, syvn1, smad5, ap1ar, LOC107378415, LOC107383231, gabra4, LOC107378612, guf1, pfdn6, mmgt1, ints6l, mospd1, pabir2, hprt1, phf6, cab39l1, LOC129161087, gpc3, LOC129161076, gpc4, brd8b, LOC107379916, LOC107380003, sting1, ppp3cb, ube2d2, zgc:110843, LOC107380447, zgc:92242, psd2, purab, nrg2b, LOC107381105, ...]\n",
      "\n",
      "[25051 rows x 0 columns]\n",
      "<Compressed Sparse Row sparse matrix of dtype 'float64'\n",
      "\twith 6409924 stored elements and shape (12184, 25051)>\n",
      "  Coords\tValues\n",
      "  (0, 19)\t1.0\n",
      "  (0, 42)\t1.0\n",
      "  (0, 86)\t1.0\n",
      "  (0, 104)\t1.0\n",
      "  (0, 127)\t1.0\n",
      "  (0, 170)\t1.0\n",
      "  (0, 180)\t1.0\n",
      "  (0, 205)\t2.0\n",
      "  (0, 224)\t1.0\n",
      "  (0, 231)\t1.0\n",
      "  (0, 314)\t1.0\n",
      "  (0, 337)\t1.0\n",
      "  (0, 350)\t1.0\n",
      "  (0, 406)\t1.0\n",
      "  (0, 437)\t2.0\n",
      "  (0, 449)\t1.0\n",
      "  (0, 478)\t1.0\n",
      "  (0, 480)\t1.0\n",
      "  (0, 499)\t1.0\n",
      "  (0, 544)\t1.0\n",
      "  (0, 550)\t1.0\n",
      "  (0, 608)\t1.0\n",
      "  (0, 610)\t1.0\n",
      "  (0, 634)\t1.0\n",
      "  (0, 664)\t2.0\n",
      "  :\t:\n",
      "  (12183, 23786)\t1.0\n",
      "  (12183, 23879)\t1.0\n",
      "  (12183, 23908)\t1.0\n",
      "  (12183, 23912)\t1.0\n",
      "  (12183, 23988)\t1.0\n",
      "  (12183, 24117)\t1.0\n",
      "  (12183, 24140)\t1.0\n",
      "  (12183, 24144)\t1.0\n",
      "  (12183, 24183)\t1.0\n",
      "  (12183, 24212)\t1.0\n",
      "  (12183, 24292)\t1.0\n",
      "  (12183, 24381)\t2.0\n",
      "  (12183, 24397)\t1.0\n",
      "  (12183, 24431)\t1.0\n",
      "  (12183, 24472)\t1.0\n",
      "  (12183, 24492)\t1.0\n",
      "  (12183, 24534)\t1.0\n",
      "  (12183, 24562)\t3.0\n",
      "  (12183, 24573)\t1.0\n",
      "  (12183, 24638)\t1.0\n",
      "  (12183, 24641)\t1.0\n",
      "  (12183, 24686)\t3.0\n",
      "  (12183, 25015)\t1.0\n",
      "  (12183, 25035)\t1.0\n",
      "  (12183, 25036)\t1.0\n"
     ]
    }
   ],
   "source": [
    "print(adata_combined.obs)\n",
    "print(adata_combined.var)\n",
    "print(adata_combined.X)"
   ]
  },
  {
   "cell_type": "code",
   "execution_count": 42,
   "id": "246c0fd6-5a58-4f07-ab3f-7ea916111af3",
   "metadata": {},
   "outputs": [],
   "source": [
    "adata_combined.write(\"pseudo_doublets_sc85_1g_2.0.h5ad\")"
   ]
  },
  {
   "cell_type": "markdown",
   "id": "d71f2377-8f8b-46ab-98b4-8be45c34cb2d",
   "metadata": {},
   "source": [
    "### Exporting Pseudo Doublets"
   ]
  },
  {
   "cell_type": "code",
   "execution_count": 43,
   "id": "25a9f697-46e6-47ae-85a4-9d88533003c6",
   "metadata": {},
   "outputs": [],
   "source": [
    "with open(\"./results/pseudo_sc85_1g_2.0_ids.txt\", \"w\") as txt_file:\n",
    "    for cell in names:\n",
    "        txt_file.write(cell + \"\\n\")"
   ]
  },
  {
   "cell_type": "code",
   "execution_count": null,
   "id": "02b5b0ca-1c16-441b-aa1b-eeceb4ff6908",
   "metadata": {},
   "outputs": [],
   "source": []
  }
 ],
 "metadata": {
  "kernelspec": {
   "display_name": "Python 3 (ipykernel)",
   "language": "python",
   "name": "python3"
  },
  "language_info": {
   "codemirror_mode": {
    "name": "ipython",
    "version": 3
   },
   "file_extension": ".py",
   "mimetype": "text/x-python",
   "name": "python",
   "nbconvert_exporter": "python",
   "pygments_lexer": "ipython3",
   "version": "3.10.0"
  }
 },
 "nbformat": 4,
 "nbformat_minor": 5
}
