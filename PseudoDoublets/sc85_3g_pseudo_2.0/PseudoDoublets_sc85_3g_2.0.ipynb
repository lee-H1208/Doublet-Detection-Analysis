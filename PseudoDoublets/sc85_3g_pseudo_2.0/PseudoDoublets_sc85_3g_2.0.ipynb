{
 "cells": [
  {
   "cell_type": "markdown",
   "id": "c58b17ad-b93f-4713-8f36-9a7f3f26d8ba",
   "metadata": {},
   "source": [
    "## Doublet Removal - Pseudo Doublets"
   ]
  },
  {
   "cell_type": "code",
   "execution_count": 3,
   "id": "201e3e96-6a77-4c30-89af-cc28d1c931b0",
   "metadata": {},
   "outputs": [
    {
     "name": "stdout",
     "output_type": "stream",
     "text": [
      "scanpy==1.10.3 anndata==0.11.0 umap==0.5.7 numpy==1.26.4 scipy==1.14.1 pandas==2.2.3 scikit-learn==1.5.2 statsmodels==0.14.4 igraph==0.11.8 louvain==0.8.2 pynndescent==0.5.13\n"
     ]
    }
   ],
   "source": [
    "import scanpy as sc\n",
    "import numpy as np\n",
    "import pandas as pd\n",
    "from matplotlib import rcParams\n",
    "import matplotlib.pyplot as plt\n",
    "%matplotlib inline\n",
    "import scipy\n",
    "import os\n",
    "import anndata\n",
    "\n",
    "sc.settings.verbosity = 3             # verbosity: errors (0), warnings (1), info (2), hints (3)\n",
    "sc.logging.print_header()\n",
    "sc.settings.set_figure_params(dpi=80, facecolor='white')\n",
    "\n",
    "# data files are in the filtered matrix folder from CellRanger which has been renamed to the sample name\n",
    "sample_name = r'sc85_3g' #r'sc70_1' #r'sc72_1'\n",
    "data_path = r\"../raw_data/\"\n",
    "data_files_path = data_path + sample_name + r\"\"\n",
    "\n",
    "results_path = 'results/'\n",
    "results_file = results_path + sample_name + '-db.h5ad'  # the file that will store the analysis results\n",
    "metrics_file = results_path + sample_name + '_db_metrics.csv'  # the file that will store the metrics\n",
    "# make results folder if it doesn't exist\n",
    "if not os.path.exists(results_path):\n",
    "    os.makedirs(results_path, exist_ok=False)"
   ]
  },
  {
   "cell_type": "markdown",
   "id": "765282f6-816a-40d2-8442-7c06b77d81d3",
   "metadata": {},
   "source": [
    "#### Setup R environment"
   ]
  },
  {
   "cell_type": "code",
   "execution_count": 4,
   "id": "2fc091cc-8ffa-4959-aabc-c932e56386e5",
   "metadata": {},
   "outputs": [
    {
     "name": "stderr",
     "output_type": "stream",
     "text": [
      "C:\\Users\\leeh1\\AppData\\Local\\Temp\\ipykernel_13112\\364680306.py:9: DeprecationWarning: The global conversion available with activate() is deprecated and will be removed in the next major release. Use a local converter.\n",
      "  anndata2ri.activate()\n",
      "C:\\Users\\leeh1\\McKinnonRosatiLab\\jl\\lib\\site-packages\\rpy2\\robjects\\packages.py:367: UserWarning: The symbol 'quartz' is not in this R namespace/package.\n",
      "  warnings.warn(\n"
     ]
    }
   ],
   "source": [
    "import os\n",
    "os.environ['R_HOME'] = r\"C:\\Program Files\\R\\R-4.4.2\"  \n",
    "import anndata2ri # order matters, comes after defining 'R_HOME\n",
    "import logging\n",
    "import rpy2.rinterface_lib.callbacks as rcb\n",
    "import rpy2.robjects as ro\n",
    "rcb.logger.setLevel(logging.ERROR)\n",
    "ro.pandas2ri.activate()\n",
    "anndata2ri.activate()\n",
    "\n",
    "%reload_ext rpy2.ipython"
   ]
  },
  {
   "cell_type": "code",
   "execution_count": 5,
   "id": "78b2635b-bbc3-4c50-a277-0ff12faf1c2e",
   "metadata": {},
   "outputs": [
    {
     "name": "stdout",
     "output_type": "stream",
     "text": [
      "\n",
      "    WARNING: The R package \"reticulate\" only fixed recently\n",
      "    an issue that caused a segfault when used with rpy2:\n",
      "    https://github.com/rstudio/reticulate/pull/1188\n",
      "    Make sure that you use a version of that package that includes\n",
      "    the fix.\n",
      "    "
     ]
    },
    {
     "data": {
      "text/plain": [
       "Loading required package: SeuratObject\n",
       "Loading required package: sp\n",
       "\n",
       "Attaching package: 'SeuratObject'\n",
       "\n",
       "The following objects are masked from 'package:base':\n",
       "\n",
       "    intersect, t\n",
       "\n",
       "Loading required package: SingleCellExperiment\n",
       "Loading required package: SummarizedExperiment\n",
       "Loading required package: MatrixGenerics\n",
       "Loading required package: matrixStats\n",
       "\n",
       "Attaching package: 'MatrixGenerics'\n",
       "\n",
       "The following objects are masked from 'package:matrixStats':\n",
       "\n",
       "    colAlls, colAnyNAs, colAnys, colAvgsPerRowSet, colCollapse,\n",
       "    colCounts, colCummaxs, colCummins, colCumprods, colCumsums,\n",
       "    colDiffs, colIQRDiffs, colIQRs, colLogSumExps, colMadDiffs,\n",
       "    colMads, colMaxs, colMeans2, colMedians, colMins, colOrderStats,\n",
       "    colProds, colQuantiles, colRanges, colRanks, colSdDiffs, colSds,\n",
       "    colSums2, colTabulates, colVarDiffs, colVars, colWeightedMads,\n",
       "    colWeightedMeans, colWeightedMedians, colWeightedSds,\n",
       "    colWeightedVars, rowAlls, rowAnyNAs, rowAnys, rowAvgsPerColSet,\n",
       "    rowCollapse, rowCounts, rowCummaxs, rowCummins, rowCumprods,\n",
       "    rowCumsums, rowDiffs, rowIQRDiffs, rowIQRs, rowLogSumExps,\n",
       "    rowMadDiffs, rowMads, rowMaxs, rowMeans2, rowMedians, rowMins,\n",
       "    rowOrderStats, rowProds, rowQuantiles, rowRanges, rowRanks,\n",
       "    rowSdDiffs, rowSds, rowSums2, rowTabulates, rowVarDiffs, rowVars,\n",
       "    rowWeightedMads, rowWeightedMeans, rowWeightedMedians,\n",
       "    rowWeightedSds, rowWeightedVars\n",
       "\n",
       "Loading required package: GenomicRanges\n",
       "Loading required package: stats4\n",
       "Loading required package: BiocGenerics\n",
       "\n",
       "Attaching package: 'BiocGenerics'\n",
       "\n",
       "The following object is masked from 'package:SeuratObject':\n",
       "\n",
       "    intersect\n",
       "\n",
       "The following objects are masked from 'package:stats':\n",
       "\n",
       "    IQR, mad, sd, var, xtabs\n",
       "\n",
       "The following objects are masked from 'package:base':\n",
       "\n",
       "    anyDuplicated, aperm, append, as.data.frame, basename, cbind,\n",
       "    colnames, dirname, do.call, duplicated, eval, evalq, Filter, Find,\n",
       "    get, grep, grepl, intersect, is.unsorted, lapply, Map, mapply,\n",
       "    match, mget, order, paste, pmax, pmax.int, pmin, pmin.int,\n",
       "    Position, rank, rbind, Reduce, rownames, sapply, saveRDS, setdiff,\n",
       "    table, tapply, union, unique, unsplit, which.max, which.min\n",
       "\n",
       "Loading required package: S4Vectors\n",
       "\n",
       "Attaching package: 'S4Vectors'\n",
       "\n",
       "The following object is masked from 'package:utils':\n",
       "\n",
       "    findMatches\n",
       "\n",
       "The following objects are masked from 'package:base':\n",
       "\n",
       "    expand.grid, I, unname\n",
       "\n",
       "Loading required package: IRanges\n",
       "\n",
       "Attaching package: 'IRanges'\n",
       "\n",
       "The following object is masked from 'package:sp':\n",
       "\n",
       "    %over%\n",
       "\n",
       "The following object is masked from 'package:grDevices':\n",
       "\n",
       "    windows\n",
       "\n",
       "Loading required package: GenomeInfoDb\n",
       "Loading required package: Biobase\n",
       "Welcome to Bioconductor\n",
       "\n",
       "    Vignettes contain introductory material; view with\n",
       "    'browseVignettes()'. To cite Bioconductor, see\n",
       "    'citation(\"Biobase\")', and for packages 'citation(\"pkgname\")'.\n",
       "\n",
       "\n",
       "Attaching package: 'Biobase'\n",
       "\n",
       "The following object is masked from 'package:MatrixGenerics':\n",
       "\n",
       "    rowMedians\n",
       "\n",
       "The following objects are masked from 'package:matrixStats':\n",
       "\n",
       "    anyMissing, rowMedians\n",
       "\n",
       "\n",
       "Attaching package: 'SummarizedExperiment'\n",
       "\n",
       "The following object is masked from 'package:Seurat':\n",
       "\n",
       "    Assays\n",
       "\n",
       "The following object is masked from 'package:SeuratObject':\n",
       "\n",
       "    Assays\n",
       "\n",
       "Loading required package: scuttle\n",
       "Loading required package: ggplot2\n"
      ]
     },
     "metadata": {},
     "output_type": "display_data"
    }
   ],
   "source": [
    "%%R\n",
    ".libPaths(c(\"C:/Users/leeh1/AppData/Local/R/win-library/4.4\", .libPaths()))\n",
    "library(Seurat)\n",
    "library(scater)\n",
    "library(scDblFinder)\n",
    "library(BiocParallel)"
   ]
  },
  {
   "cell_type": "markdown",
   "id": "58c74e67-67f3-465c-a094-d966c8feb4d9",
   "metadata": {},
   "source": [
    "#### Load data"
   ]
  },
  {
   "cell_type": "markdown",
   "id": "9cf502c3-b52c-4dc8-bf2d-9b63851fb170",
   "metadata": {},
   "source": [
    "Read in count data into an [`AnnData`](https://anndata.readthedocs.io/en/latest/anndata.AnnData.html) object.  \n",
    "The matrix.mtx file contains a sparse matrix of the counts.  \n",
    "Barcodes file contains the sample names in the format: AAACCCAAGACCATAA-1  \n",
    "Features file contains the gene id in the format: ENSMUSG00000051951, Xkr4, Gene Expression\n",
    "\n",
    "The number of counts per cell will be relatively low since only UMIs are counted by Cellranger"
   ]
  },
  {
   "cell_type": "code",
   "execution_count": 6,
   "id": "8c8d560c-0e18-47c0-9249-db0258808305",
   "metadata": {},
   "outputs": [
    {
     "name": "stdout",
     "output_type": "stream",
     "text": [
      "... reading from cache file cache\\..-raw_data-sc85_3g-matrix.h5ad\n",
      "Data matrix is sparse: True\n",
      "\n",
      "Index(['AAACAGCCAACATAAG_sc85_3g', 'AAACAGCCAATGAAGC_sc85_3g'], dtype='object')\n",
      "\n",
      "Number of cells = 13,572\n",
      "Number of genes = 36,530\n",
      "Number of counts = 18,226,496\n",
      "Mean counts per cell = 1,343\n"
     ]
    },
    {
     "data": {
      "text/plain": [
       "AnnData object with n_obs × n_vars = 13572 × 36530\n",
       "    var: 'gene_ids', 'feature_types'"
      ]
     },
     "execution_count": 6,
     "metadata": {},
     "output_type": "execute_result"
    }
   ],
   "source": [
    "adata = sc.read_10x_mtx(\n",
    "    data_files_path,              # the directory with the `.mtx` file\n",
    "    var_names='gene_symbols',     # use gene symbols for the variable names (variables-axis index)\n",
    "    cache=True)                   # write a cache file for faster subsequent reading\n",
    "\n",
    "# adata.var_names_make_unique()  # this is unnecessary if using `var_names='gene_ids'` in `sc.read_10x_mtx`\n",
    "print('Data matrix is sparse:', scipy.sparse.issparse(adata.X))\n",
    "print()\n",
    "\n",
    "# make the obs names unique by adding the sample name\n",
    "adata.obs_names = [g.split(\"-\")[0] + '_' + sample_name for g in adata.obs_names]\n",
    "print(adata.obs_names[0:2])\n",
    "print()\n",
    "print('Number of cells =', f\"{adata.n_obs:,.0f}\")\n",
    "print('Number of genes =', f\"{adata.n_vars:,.0f}\")\n",
    "print('Number of counts =', f\"{adata.X.sum():,.0f}\")\n",
    "print('Mean counts per cell =', f\"{adata.X.sum()/adata.n_obs:,.0f}\")\n",
    "adata"
   ]
  },
  {
   "cell_type": "code",
   "execution_count": 7,
   "id": "b8335054-4efe-4510-8337-a42ef4c6c70a",
   "metadata": {},
   "outputs": [
    {
     "name": "stderr",
     "output_type": "stream",
     "text": [
      "C:\\Users\\leeh1\\AppData\\Local\\Temp\\ipykernel_13112\\1815972615.py:8: FutureWarning: DataFrame.applymap has been deprecated. Use DataFrame.map instead.\n",
      "  df_metrics.iloc[:, 1:] = df_metrics.iloc[:,1:].applymap('{:,.0f}'.format)\n",
      "C:\\Users\\leeh1\\AppData\\Local\\Temp\\ipykernel_13112\\1815972615.py:8: FutureWarning: Setting an item of incompatible dtype is deprecated and will raise in a future error of pandas. Value '0    36,530\n",
      "Name: Number of genes, dtype: object' has dtype incompatible with float64, please explicitly cast to a compatible dtype first.\n",
      "  df_metrics.iloc[:, 1:] = df_metrics.iloc[:,1:].applymap('{:,.0f}'.format)\n",
      "C:\\Users\\leeh1\\AppData\\Local\\Temp\\ipykernel_13112\\1815972615.py:8: FutureWarning: Setting an item of incompatible dtype is deprecated and will raise in a future error of pandas. Value '0    18,226,496\n",
      "Name: Number of counts, dtype: object' has dtype incompatible with float64, please explicitly cast to a compatible dtype first.\n",
      "  df_metrics.iloc[:, 1:] = df_metrics.iloc[:,1:].applymap('{:,.0f}'.format)\n",
      "C:\\Users\\leeh1\\AppData\\Local\\Temp\\ipykernel_13112\\1815972615.py:8: FutureWarning: Setting an item of incompatible dtype is deprecated and will raise in a future error of pandas. Value '0    1,343\n",
      "Name: Mean counts per cell, dtype: object' has dtype incompatible with float64, please explicitly cast to a compatible dtype first.\n",
      "  df_metrics.iloc[:, 1:] = df_metrics.iloc[:,1:].applymap('{:,.0f}'.format)\n"
     ]
    },
    {
     "data": {
      "text/html": [
       "<div>\n",
       "<style scoped>\n",
       "    .dataframe tbody tr th:only-of-type {\n",
       "        vertical-align: middle;\n",
       "    }\n",
       "\n",
       "    .dataframe tbody tr th {\n",
       "        vertical-align: top;\n",
       "    }\n",
       "\n",
       "    .dataframe thead th {\n",
       "        text-align: right;\n",
       "    }\n",
       "</style>\n",
       "<table border=\"1\" class=\"dataframe\">\n",
       "  <thead>\n",
       "    <tr style=\"text-align: right;\">\n",
       "      <th></th>\n",
       "      <th>Number of cells</th>\n",
       "      <th>Number of genes</th>\n",
       "      <th>Number of counts</th>\n",
       "      <th>Mean counts per cell</th>\n",
       "    </tr>\n",
       "  </thead>\n",
       "  <tbody>\n",
       "    <tr>\n",
       "      <th>sc85_3g</th>\n",
       "      <td>13572.0</td>\n",
       "      <td>36,530</td>\n",
       "      <td>18,226,496</td>\n",
       "      <td>1,343</td>\n",
       "    </tr>\n",
       "  </tbody>\n",
       "</table>\n",
       "</div>"
      ],
      "text/plain": [
       "         Number of cells Number of genes Number of counts Mean counts per cell\n",
       "sc85_3g          13572.0          36,530       18,226,496                1,343"
      ]
     },
     "execution_count": 7,
     "metadata": {},
     "output_type": "execute_result"
    }
   ],
   "source": [
    "n_cells = adata.n_obs\n",
    "n_genes = adata.n_vars\n",
    "n_counts = adata.X.sum()    \n",
    "counts_per_cell = round(n_counts / n_cells)\n",
    "\n",
    "df_metrics = pd.DataFrame([n_cells, n_genes, n_counts, counts_per_cell], \\\n",
    "                  index = ['Number of cells', 'Number of genes', 'Number of counts','Mean counts per cell']).T\n",
    "df_metrics.iloc[:, 1:] = df_metrics.iloc[:,1:].applymap('{:,.0f}'.format)\n",
    "df_metrics.index = [sample_name]\n",
    "df_metrics"
   ]
  },
  {
   "cell_type": "markdown",
   "id": "e73cd11c-67a3-4417-ae87-d0af9179779b",
   "metadata": {},
   "source": [
    "### Import Doublet IDs"
   ]
  },
  {
   "cell_type": "code",
   "execution_count": 8,
   "id": "9d4d7171-a502-4d1c-8d4e-219a6675dfb8",
   "metadata": {},
   "outputs": [
    {
     "name": "stdout",
     "output_type": "stream",
     "text": [
      "4197\n"
     ]
    }
   ],
   "source": [
    "doublets = np.load('doublets_sc85_3g.npy')\n",
    "print(len(doublets))"
   ]
  },
  {
   "cell_type": "markdown",
   "id": "eef39f41-3ea9-4975-9f77-9c76f0bf3882",
   "metadata": {},
   "source": [
    "### Isolating Singlets"
   ]
  },
  {
   "cell_type": "code",
   "execution_count": 9,
   "id": "9a85410a-62c8-41df-8b3c-fab1b5f72fe5",
   "metadata": {},
   "outputs": [],
   "source": [
    "adata.obs['doublet_class'] = [1.0 if name in doublets else 0.0 for name in adata.obs_names]"
   ]
  },
  {
   "cell_type": "code",
   "execution_count": 10,
   "id": "b1a4ff56-6f73-417d-8f05-65e0ae6ce35c",
   "metadata": {},
   "outputs": [
    {
     "name": "stdout",
     "output_type": "stream",
     "text": [
      "AAACAGCCAACATAAG_sc85_3g    1.0\n",
      "AAACAGCCAATGAAGC_sc85_3g    0.0\n",
      "AAACAGCCAATTAAGG_sc85_3g    1.0\n",
      "AAACAGCCACGTGCTG_sc85_3g    0.0\n",
      "AAACAGCCACTGACCG_sc85_3g    1.0\n",
      "                           ... \n",
      "TTTGTGTTCTAGCTTT_sc85_3g    1.0\n",
      "TTTGTGTTCTGTTCAT_sc85_3g    0.0\n",
      "TTTGTTGGTCCTTAGT_sc85_3g    1.0\n",
      "TTTGTTGGTGTCCAGG_sc85_3g    0.0\n",
      "TTTGTTGGTTGTCATC_sc85_3g    0.0\n",
      "Name: doublet_class, Length: 13572, dtype: float64\n"
     ]
    }
   ],
   "source": [
    "print(adata.obs['doublet_class'])"
   ]
  },
  {
   "cell_type": "code",
   "execution_count": 11,
   "id": "c95e64de-f80d-4a18-9eb7-c07eff4bc3a5",
   "metadata": {},
   "outputs": [],
   "source": [
    "bdata = adata[adata.obs['doublet_class'] == 0.0].copy()"
   ]
  },
  {
   "cell_type": "code",
   "execution_count": 12,
   "id": "70e02576-3b8f-4975-86dd-54ed18e2e487",
   "metadata": {},
   "outputs": [
    {
     "name": "stdout",
     "output_type": "stream",
     "text": [
      "9375\n"
     ]
    }
   ],
   "source": [
    "print(len(bdata))"
   ]
  },
  {
   "cell_type": "markdown",
   "id": "c54cba8a-0964-41bd-b774-9c88ad2f777a",
   "metadata": {},
   "source": [
    "## Creating Pseudo Doublets"
   ]
  },
  {
   "cell_type": "code",
   "execution_count": 13,
   "id": "1ad58323-4f60-4de6-b75c-0ef687636e66",
   "metadata": {},
   "outputs": [
    {
     "name": "stdout",
     "output_type": "stream",
     "text": [
      "Number of pseudo_doublets to be generated: 937\n"
     ]
    }
   ],
   "source": [
    "singlet_data = bdata.X.T\n",
    "n_pseudo_doubs = int(0.1 * bdata.shape[0])\n",
    "print(\"Number of pseudo_doublets to be generated: \" + str(n_pseudo_doubs))"
   ]
  },
  {
   "cell_type": "code",
   "execution_count": 14,
   "id": "334ae9a6-0942-49da-9651-b324bd0970b6",
   "metadata": {},
   "outputs": [
    {
     "name": "stdout",
     "output_type": "stream",
     "text": [
      "Formal class 'dgCMatrix' [package \"Matrix\"] with 6 slots\n",
      "  ..@ i       : int [1:1324989] 44 50 65 74 79 93 104 116 127 154 ...\n",
      "  ..@ p       : int [1:938] 0 1608 3226 4677 5464 6913 8638 9893 11778 13046 ...\n",
      "  ..@ Dim     : int [1:2] 36530 937\n",
      "  ..@ Dimnames:List of 2\n",
      "  .. ..$ : NULL\n",
      "  .. ..$ : chr [1:937] \"rDbl.1\" \"rDbl.2\" \"rDbl.3\" \"rDbl.4\" ...\n",
      "  ..@ x       : num [1:1324989] 1 2 1 1 2 1 1 1 1 1 ...\n",
      "  ..@ factors : list()\n",
      " chr [1:937] \"rDbl.1\" \"rDbl.2\" \"rDbl.3\" \"rDbl.4\" \"rDbl.5\" \"rDbl.6\" \"rDbl.7\" ...\n"
     ]
    }
   ],
   "source": [
    "%%R -i singlet_data -i n_pseudo_doubs -o pseudo_doublets -o pd_count_matrix -o names\n",
    "\n",
    "pseudo_doublets = getArtificialDoublets(\n",
    "    x=singlet_data,   \n",
    "    n=n_pseudo_doubs,  \n",
    "    resamp=0.1, \n",
    "    propRandom=0,  \n",
    "    selMode=\"proportional\",  \n",
    "    meta.triplets=FALSE  \n",
    ")\n",
    "\n",
    "pd_count_matrix <- pseudo_doublets$counts\n",
    "str(pd_count_matrix)\n",
    "names <- pd_count_matrix@Dimnames[[2]]\n",
    "str(names)"
   ]
  },
  {
   "cell_type": "code",
   "execution_count": 15,
   "id": "5075478d-a00e-40ad-91e4-999ecc0ee569",
   "metadata": {},
   "outputs": [
    {
     "name": "stdout",
     "output_type": "stream",
     "text": [
      "pd_count_matrix shape: <Compressed Sparse Column sparse matrix of dtype 'float64'\n",
      "\twith 1324989 stored elements and shape (36530, 937)>\n",
      "  Coords\tValues\n",
      "  (44, 0)\t1.0\n",
      "  (50, 0)\t2.0\n",
      "  (65, 0)\t1.0\n",
      "  (74, 0)\t1.0\n",
      "  (79, 0)\t2.0\n",
      "  (93, 0)\t1.0\n",
      "  (104, 0)\t1.0\n",
      "  (116, 0)\t1.0\n",
      "  (127, 0)\t1.0\n",
      "  (154, 0)\t1.0\n",
      "  (179, 0)\t3.0\n",
      "  (180, 0)\t1.0\n",
      "  (195, 0)\t1.0\n",
      "  (229, 0)\t1.0\n",
      "  (233, 0)\t2.0\n",
      "  (238, 0)\t1.0\n",
      "  (269, 0)\t1.0\n",
      "  (272, 0)\t1.0\n",
      "  (273, 0)\t1.0\n",
      "  (299, 0)\t2.0\n",
      "  (300, 0)\t1.0\n",
      "  (322, 0)\t1.0\n",
      "  (337, 0)\t1.0\n",
      "  (373, 0)\t1.0\n",
      "  (403, 0)\t1.0\n",
      "  :\t:\n",
      "  (34664, 936)\t0.5\n",
      "  (34665, 936)\t1.5\n",
      "  (34666, 936)\t1.0\n",
      "  (34671, 936)\t0.5\n",
      "  (34674, 936)\t0.5\n",
      "  (34675, 936)\t0.5\n",
      "  (34707, 936)\t0.5\n",
      "  (34779, 936)\t1.5\n",
      "  (34791, 936)\t0.5\n",
      "  (34892, 936)\t0.5\n",
      "  (35553, 936)\t0.5\n",
      "  (35555, 936)\t0.5\n",
      "  (35697, 936)\t0.5\n",
      "  (36262, 936)\t0.5\n",
      "  (36310, 936)\t0.5\n",
      "  (36493, 936)\t36.0\n",
      "  (36495, 936)\t27.5\n",
      "  (36497, 936)\t2.0\n",
      "  (36501, 936)\t3.0\n",
      "  (36507, 936)\t1.0\n",
      "  (36510, 936)\t8.5\n",
      "  (36513, 936)\t3.5\n",
      "  (36514, 936)\t3.0\n",
      "  (36519, 936)\t2.0\n",
      "  (36526, 936)\t1.5\n"
     ]
    }
   ],
   "source": [
    "print(\"pd_count_matrix shape:\", pd_count_matrix)"
   ]
  },
  {
   "cell_type": "code",
   "execution_count": 16,
   "id": "9231a1de-3eed-4462-923d-2a21e4613eda",
   "metadata": {},
   "outputs": [
    {
     "name": "stdout",
     "output_type": "stream",
     "text": [
      "names ['rDbl.1' 'rDbl.2' 'rDbl.3' 'rDbl.4' 'rDbl.5' 'rDbl.6' 'rDbl.7' 'rDbl.8'\n",
      " 'rDbl.9' 'rDbl.10' 'rDbl.11' 'rDbl.12' 'rDbl.13' 'rDbl.14' 'rDbl.15'\n",
      " 'rDbl.16' 'rDbl.17' 'rDbl.18' 'rDbl.19' 'rDbl.20' 'rDbl.21' 'rDbl.22'\n",
      " 'rDbl.23' 'rDbl.24' 'rDbl.25' 'rDbl.26' 'rDbl.27' 'rDbl.28' 'rDbl.29'\n",
      " 'rDbl.30' 'rDbl.31' 'rDbl.32' 'rDbl.33' 'rDbl.34' 'rDbl.35' 'rDbl.36'\n",
      " 'rDbl.37' 'rDbl.38' 'rDbl.39' 'rDbl.40' 'rDbl.41' 'rDbl.42' 'rDbl.43'\n",
      " 'rDbl.44' 'rDbl.45' 'rDbl.46' 'rDbl.47' 'rDbl.48' 'rDbl.49' 'rDbl.50'\n",
      " 'rDbl.51' 'rDbl.52' 'rDbl.53' 'rDbl.54' 'rDbl.55' 'rDbl.56' 'rDbl.57'\n",
      " 'rDbl.58' 'rDbl.59' 'rDbl.60' 'rDbl.61' 'rDbl.62' 'rDbl.63' 'rDbl.64'\n",
      " 'rDbl.65' 'rDbl.66' 'rDbl.67' 'rDbl.68' 'rDbl.69' 'rDbl.70' 'rDbl.71'\n",
      " 'rDbl.72' 'rDbl.73' 'rDbl.74' 'rDbl.75' 'rDbl.76' 'rDbl.77' 'rDbl.78'\n",
      " 'rDbl.79' 'rDbl.80' 'rDbl.81' 'rDbl.82' 'rDbl.83' 'rDbl.84' 'rDbl.85'\n",
      " 'rDbl.86' 'rDbl.87' 'rDbl.88' 'rDbl.89' 'rDbl.90' 'rDbl.91' 'rDbl.92'\n",
      " 'rDbl.93' 'rDbl.94' 'rDbl.95' 'rDbl.96' 'rDbl.97' 'rDbl.98' 'rDbl.99'\n",
      " 'rDbl.100' 'rDbl.101' 'rDbl.102' 'rDbl.103' 'rDbl.104' 'rDbl.105'\n",
      " 'rDbl.106' 'rDbl.107' 'rDbl.108' 'rDbl.109' 'rDbl.110' 'rDbl.111'\n",
      " 'rDbl.112' 'rDbl.113' 'rDbl.114' 'rDbl.115' 'rDbl.116' 'rDbl.117'\n",
      " 'rDbl.118' 'rDbl.119' 'rDbl.120' 'rDbl.121' 'rDbl.122' 'rDbl.123'\n",
      " 'rDbl.124' 'rDbl.125' 'rDbl.126' 'rDbl.127' 'rDbl.128' 'rDbl.129'\n",
      " 'rDbl.130' 'rDbl.131' 'rDbl.132' 'rDbl.133' 'rDbl.134' 'rDbl.135'\n",
      " 'rDbl.136' 'rDbl.137' 'rDbl.138' 'rDbl.139' 'rDbl.140' 'rDbl.141'\n",
      " 'rDbl.142' 'rDbl.143' 'rDbl.144' 'rDbl.145' 'rDbl.146' 'rDbl.147'\n",
      " 'rDbl.148' 'rDbl.149' 'rDbl.150' 'rDbl.151' 'rDbl.152' 'rDbl.153'\n",
      " 'rDbl.154' 'rDbl.155' 'rDbl.156' 'rDbl.157' 'rDbl.158' 'rDbl.159'\n",
      " 'rDbl.160' 'rDbl.161' 'rDbl.162' 'rDbl.163' 'rDbl.164' 'rDbl.165'\n",
      " 'rDbl.166' 'rDbl.167' 'rDbl.168' 'rDbl.169' 'rDbl.170' 'rDbl.171'\n",
      " 'rDbl.172' 'rDbl.173' 'rDbl.174' 'rDbl.175' 'rDbl.176' 'rDbl.177'\n",
      " 'rDbl.178' 'rDbl.179' 'rDbl.180' 'rDbl.181' 'rDbl.182' 'rDbl.183'\n",
      " 'rDbl.184' 'rDbl.185' 'rDbl.186' 'rDbl.187' 'rDbl.188' 'rDbl.189'\n",
      " 'rDbl.190' 'rDbl.191' 'rDbl.192' 'rDbl.193' 'rDbl.194' 'rDbl.195'\n",
      " 'rDbl.196' 'rDbl.197' 'rDbl.198' 'rDbl.199' 'rDbl.200' 'rDbl.201'\n",
      " 'rDbl.202' 'rDbl.203' 'rDbl.204' 'rDbl.205' 'rDbl.206' 'rDbl.207'\n",
      " 'rDbl.208' 'rDbl.209' 'rDbl.210' 'rDbl.211' 'rDbl.212' 'rDbl.213'\n",
      " 'rDbl.214' 'rDbl.215' 'rDbl.216' 'rDbl.217' 'rDbl.218' 'rDbl.219'\n",
      " 'rDbl.220' 'rDbl.221' 'rDbl.222' 'rDbl.223' 'rDbl.224' 'rDbl.225'\n",
      " 'rDbl.226' 'rDbl.227' 'rDbl.228' 'rDbl.229' 'rDbl.230' 'rDbl.231'\n",
      " 'rDbl.232' 'rDbl.233' 'rDbl.234' 'rDbl.235' 'rDbl.236' 'rDbl.237'\n",
      " 'rDbl.238' 'rDbl.239' 'rDbl.240' 'rDbl.241' 'rDbl.242' 'rDbl.243'\n",
      " 'rDbl.244' 'rDbl.245' 'rDbl.246' 'rDbl.247' 'rDbl.248' 'rDbl.249'\n",
      " 'rDbl.250' 'rDbl.251' 'rDbl.252' 'rDbl.253' 'rDbl.254' 'rDbl.255'\n",
      " 'rDbl.256' 'rDbl.257' 'rDbl.258' 'rDbl.259' 'rDbl.260' 'rDbl.261'\n",
      " 'rDbl.262' 'rDbl.263' 'rDbl.264' 'rDbl.265' 'rDbl.266' 'rDbl.267'\n",
      " 'rDbl.268' 'rDbl.269' 'rDbl.270' 'rDbl.271' 'rDbl.272' 'rDbl.273'\n",
      " 'rDbl.274' 'rDbl.275' 'rDbl.276' 'rDbl.277' 'rDbl.278' 'rDbl.279'\n",
      " 'rDbl.280' 'rDbl.281' 'rDbl.282' 'rDbl.283' 'rDbl.284' 'rDbl.285'\n",
      " 'rDbl.286' 'rDbl.287' 'rDbl.288' 'rDbl.289' 'rDbl.290' 'rDbl.291'\n",
      " 'rDbl.292' 'rDbl.293' 'rDbl.294' 'rDbl.295' 'rDbl.296' 'rDbl.297'\n",
      " 'rDbl.298' 'rDbl.299' 'rDbl.300' 'rDbl.301' 'rDbl.302' 'rDbl.303'\n",
      " 'rDbl.304' 'rDbl.305' 'rDbl.306' 'rDbl.307' 'rDbl.308' 'rDbl.309'\n",
      " 'rDbl.310' 'rDbl.311' 'rDbl.312' 'rDbl.313' 'rDbl.314' 'rDbl.315'\n",
      " 'rDbl.316' 'rDbl.317' 'rDbl.318' 'rDbl.319' 'rDbl.320' 'rDbl.321'\n",
      " 'rDbl.322' 'rDbl.323' 'rDbl.324' 'rDbl.325' 'rDbl.326' 'rDbl.327'\n",
      " 'rDbl.328' 'rDbl.329' 'rDbl.330' 'rDbl.331' 'rDbl.332' 'rDbl.333'\n",
      " 'rDbl.334' 'rDbl.335' 'rDbl.336' 'rDbl.337' 'rDbl.338' 'rDbl.339'\n",
      " 'rDbl.340' 'rDbl.341' 'rDbl.342' 'rDbl.343' 'rDbl.344' 'rDbl.345'\n",
      " 'rDbl.346' 'rDbl.347' 'rDbl.348' 'rDbl.349' 'rDbl.350' 'rDbl.351'\n",
      " 'rDbl.352' 'rDbl.353' 'rDbl.354' 'rDbl.355' 'rDbl.356' 'rDbl.357'\n",
      " 'rDbl.358' 'rDbl.359' 'rDbl.360' 'rDbl.361' 'rDbl.362' 'rDbl.363'\n",
      " 'rDbl.364' 'rDbl.365' 'rDbl.366' 'rDbl.367' 'rDbl.368' 'rDbl.369'\n",
      " 'rDbl.370' 'rDbl.371' 'rDbl.372' 'rDbl.373' 'rDbl.374' 'rDbl.375'\n",
      " 'rDbl.376' 'rDbl.377' 'rDbl.378' 'rDbl.379' 'rDbl.380' 'rDbl.381'\n",
      " 'rDbl.382' 'rDbl.383' 'rDbl.384' 'rDbl.385' 'rDbl.386' 'rDbl.387'\n",
      " 'rDbl.388' 'rDbl.389' 'rDbl.390' 'rDbl.391' 'rDbl.392' 'rDbl.393'\n",
      " 'rDbl.394' 'rDbl.395' 'rDbl.396' 'rDbl.397' 'rDbl.398' 'rDbl.399'\n",
      " 'rDbl.400' 'rDbl.401' 'rDbl.402' 'rDbl.403' 'rDbl.404' 'rDbl.405'\n",
      " 'rDbl.406' 'rDbl.407' 'rDbl.408' 'rDbl.409' 'rDbl.410' 'rDbl.411'\n",
      " 'rDbl.412' 'rDbl.413' 'rDbl.414' 'rDbl.415' 'rDbl.416' 'rDbl.417'\n",
      " 'rDbl.418' 'rDbl.419' 'rDbl.420' 'rDbl.421' 'rDbl.422' 'rDbl.423'\n",
      " 'rDbl.424' 'rDbl.425' 'rDbl.426' 'rDbl.427' 'rDbl.428' 'rDbl.429'\n",
      " 'rDbl.430' 'rDbl.431' 'rDbl.432' 'rDbl.433' 'rDbl.434' 'rDbl.435'\n",
      " 'rDbl.436' 'rDbl.437' 'rDbl.438' 'rDbl.439' 'rDbl.440' 'rDbl.441'\n",
      " 'rDbl.442' 'rDbl.443' 'rDbl.444' 'rDbl.445' 'rDbl.446' 'rDbl.447'\n",
      " 'rDbl.448' 'rDbl.449' 'rDbl.450' 'rDbl.451' 'rDbl.452' 'rDbl.453'\n",
      " 'rDbl.454' 'rDbl.455' 'rDbl.456' 'rDbl.457' 'rDbl.458' 'rDbl.459'\n",
      " 'rDbl.460' 'rDbl.461' 'rDbl.462' 'rDbl.463' 'rDbl.464' 'rDbl.465'\n",
      " 'rDbl.466' 'rDbl.467' 'rDbl.468' 'rDbl.469' 'rDbl.470' 'rDbl.471'\n",
      " 'rDbl.472' 'rDbl.473' 'rDbl.474' 'rDbl.475' 'rDbl.476' 'rDbl.477'\n",
      " 'rDbl.478' 'rDbl.479' 'rDbl.480' 'rDbl.481' 'rDbl.482' 'rDbl.483'\n",
      " 'rDbl.484' 'rDbl.485' 'rDbl.486' 'rDbl.487' 'rDbl.488' 'rDbl.489'\n",
      " 'rDbl.490' 'rDbl.491' 'rDbl.492' 'rDbl.493' 'rDbl.494' 'rDbl.495'\n",
      " 'rDbl.496' 'rDbl.497' 'rDbl.498' 'rDbl.499' 'rDbl.500' 'rDbl.501'\n",
      " 'rDbl.502' 'rDbl.503' 'rDbl.504' 'rDbl.505' 'rDbl.506' 'rDbl.507'\n",
      " 'rDbl.508' 'rDbl.509' 'rDbl.510' 'rDbl.511' 'rDbl.512' 'rDbl.513'\n",
      " 'rDbl.514' 'rDbl.515' 'rDbl.516' 'rDbl.517' 'rDbl.518' 'rDbl.519'\n",
      " 'rDbl.520' 'rDbl.521' 'rDbl.522' 'rDbl.523' 'rDbl.524' 'rDbl.525'\n",
      " 'rDbl.526' 'rDbl.527' 'rDbl.528' 'rDbl.529' 'rDbl.530' 'rDbl.531'\n",
      " 'rDbl.532' 'rDbl.533' 'rDbl.534' 'rDbl.535' 'rDbl.536' 'rDbl.537'\n",
      " 'rDbl.538' 'rDbl.539' 'rDbl.540' 'rDbl.541' 'rDbl.542' 'rDbl.543'\n",
      " 'rDbl.544' 'rDbl.545' 'rDbl.546' 'rDbl.547' 'rDbl.548' 'rDbl.549'\n",
      " 'rDbl.550' 'rDbl.551' 'rDbl.552' 'rDbl.553' 'rDbl.554' 'rDbl.555'\n",
      " 'rDbl.556' 'rDbl.557' 'rDbl.558' 'rDbl.559' 'rDbl.560' 'rDbl.561'\n",
      " 'rDbl.562' 'rDbl.563' 'rDbl.564' 'rDbl.565' 'rDbl.566' 'rDbl.567'\n",
      " 'rDbl.568' 'rDbl.569' 'rDbl.570' 'rDbl.571' 'rDbl.572' 'rDbl.573'\n",
      " 'rDbl.574' 'rDbl.575' 'rDbl.576' 'rDbl.577' 'rDbl.578' 'rDbl.579'\n",
      " 'rDbl.580' 'rDbl.581' 'rDbl.582' 'rDbl.583' 'rDbl.584' 'rDbl.585'\n",
      " 'rDbl.586' 'rDbl.587' 'rDbl.588' 'rDbl.589' 'rDbl.590' 'rDbl.591'\n",
      " 'rDbl.592' 'rDbl.593' 'rDbl.594' 'rDbl.595' 'rDbl.596' 'rDbl.597'\n",
      " 'rDbl.598' 'rDbl.599' 'rDbl.600' 'rDbl.601' 'rDbl.602' 'rDbl.603'\n",
      " 'rDbl.604' 'rDbl.605' 'rDbl.606' 'rDbl.607' 'rDbl.608' 'rDbl.609'\n",
      " 'rDbl.610' 'rDbl.611' 'rDbl.612' 'rDbl.613' 'rDbl.614' 'rDbl.615'\n",
      " 'rDbl.616' 'rDbl.617' 'rDbl.618' 'rDbl.619' 'rDbl.620' 'rDbl.621'\n",
      " 'rDbl.622' 'rDbl.623' 'rDbl.624' 'rDbl.625' 'rDbl.626' 'rDbl.627'\n",
      " 'rDbl.628' 'rDbl.629' 'rDbl.630' 'rDbl.631' 'rDbl.632' 'rDbl.633'\n",
      " 'rDbl.634' 'rDbl.635' 'rDbl.636' 'rDbl.637' 'rDbl.638' 'rDbl.639'\n",
      " 'rDbl.640' 'rDbl.641' 'rDbl.642' 'rDbl.643' 'rDbl.644' 'rDbl.645'\n",
      " 'rDbl.646' 'rDbl.647' 'rDbl.648' 'rDbl.649' 'rDbl.650' 'rDbl.651'\n",
      " 'rDbl.652' 'rDbl.653' 'rDbl.654' 'rDbl.655' 'rDbl.656' 'rDbl.657'\n",
      " 'rDbl.658' 'rDbl.659' 'rDbl.660' 'rDbl.661' 'rDbl.662' 'rDbl.663'\n",
      " 'rDbl.664' 'rDbl.665' 'rDbl.666' 'rDbl.667' 'rDbl.668' 'rDbl.669'\n",
      " 'rDbl.670' 'rDbl.671' 'rDbl.672' 'rDbl.673' 'rDbl.674' 'rDbl.675'\n",
      " 'rDbl.676' 'rDbl.677' 'rDbl.678' 'rDbl.679' 'rDbl.680' 'rDbl.681'\n",
      " 'rDbl.682' 'rDbl.683' 'rDbl.684' 'rDbl.685' 'rDbl.686' 'rDbl.687'\n",
      " 'rDbl.688' 'rDbl.689' 'rDbl.690' 'rDbl.691' 'rDbl.692' 'rDbl.693'\n",
      " 'rDbl.694' 'rDbl.695' 'rDbl.696' 'rDbl.697' 'rDbl.698' 'rDbl.699'\n",
      " 'rDbl.700' 'rDbl.701' 'rDbl.702' 'rDbl.703' 'rDbl.704' 'rDbl.705'\n",
      " 'rDbl.706' 'rDbl.707' 'rDbl.708' 'rDbl.709' 'rDbl.710' 'rDbl.711'\n",
      " 'rDbl.712' 'rDbl.713' 'rDbl.714' 'rDbl.715' 'rDbl.716' 'rDbl.717'\n",
      " 'rDbl.718' 'rDbl.719' 'rDbl.720' 'rDbl.721' 'rDbl.722' 'rDbl.723'\n",
      " 'rDbl.724' 'rDbl.725' 'rDbl.726' 'rDbl.727' 'rDbl.728' 'rDbl.729'\n",
      " 'rDbl.730' 'rDbl.731' 'rDbl.732' 'rDbl.733' 'rDbl.734' 'rDbl.735'\n",
      " 'rDbl.736' 'rDbl.737' 'rDbl.738' 'rDbl.739' 'rDbl.740' 'rDbl.741'\n",
      " 'rDbl.742' 'rDbl.743' 'rDbl.744' 'rDbl.745' 'rDbl.746' 'rDbl.747'\n",
      " 'rDbl.748' 'rDbl.749' 'rDbl.750' 'rDbl.751' 'rDbl.752' 'rDbl.753'\n",
      " 'rDbl.754' 'rDbl.755' 'rDbl.756' 'rDbl.757' 'rDbl.758' 'rDbl.759'\n",
      " 'rDbl.760' 'rDbl.761' 'rDbl.762' 'rDbl.763' 'rDbl.764' 'rDbl.765'\n",
      " 'rDbl.766' 'rDbl.767' 'rDbl.768' 'rDbl.769' 'rDbl.770' 'rDbl.771'\n",
      " 'rDbl.772' 'rDbl.773' 'rDbl.774' 'rDbl.775' 'rDbl.776' 'rDbl.777'\n",
      " 'rDbl.778' 'rDbl.779' 'rDbl.780' 'rDbl.781' 'rDbl.782' 'rDbl.783'\n",
      " 'rDbl.784' 'rDbl.785' 'rDbl.786' 'rDbl.787' 'rDbl.788' 'rDbl.789'\n",
      " 'rDbl.790' 'rDbl.791' 'rDbl.792' 'rDbl.793' 'rDbl.794' 'rDbl.795'\n",
      " 'rDbl.796' 'rDbl.797' 'rDbl.798' 'rDbl.799' 'rDbl.800' 'rDbl.801'\n",
      " 'rDbl.802' 'rDbl.803' 'rDbl.804' 'rDbl.805' 'rDbl.806' 'rDbl.807'\n",
      " 'rDbl.808' 'rDbl.809' 'rDbl.810' 'rDbl.811' 'rDbl.812' 'rDbl.813'\n",
      " 'rDbl.814' 'rDbl.815' 'rDbl.816' 'rDbl.817' 'rDbl.818' 'rDbl.819'\n",
      " 'rDbl.820' 'rDbl.821' 'rDbl.822' 'rDbl.823' 'rDbl.824' 'rDbl.825'\n",
      " 'rDbl.826' 'rDbl.827' 'rDbl.828' 'rDbl.829' 'rDbl.830' 'rDbl.831'\n",
      " 'rDbl.832' 'rDbl.833' 'rDbl.834' 'rDbl.835' 'rDbl.836' 'rDbl.837'\n",
      " 'rDbl.838' 'rDbl.839' 'rDbl.840' 'rDbl.841' 'rDbl.842' 'rDbl.843'\n",
      " 'rDbl.844' 'rDbl.845' 'rDbl.846' 'rDbl.847' 'rDbl.848' 'rDbl.849'\n",
      " 'rDbl.850' 'rDbl.851' 'rDbl.852' 'rDbl.853' 'rDbl.854' 'rDbl.855'\n",
      " 'rDbl.856' 'rDbl.857' 'rDbl.858' 'rDbl.859' 'rDbl.860' 'rDbl.861'\n",
      " 'rDbl.862' 'rDbl.863' 'rDbl.864' 'rDbl.865' 'rDbl.866' 'rDbl.867'\n",
      " 'rDbl.868' 'rDbl.869' 'rDbl.870' 'rDbl.871' 'rDbl.872' 'rDbl.873'\n",
      " 'rDbl.874' 'rDbl.875' 'rDbl.876' 'rDbl.877' 'rDbl.878' 'rDbl.879'\n",
      " 'rDbl.880' 'rDbl.881' 'rDbl.882' 'rDbl.883' 'rDbl.884' 'rDbl.885'\n",
      " 'rDbl.886' 'rDbl.887' 'rDbl.888' 'rDbl.889' 'rDbl.890' 'rDbl.891'\n",
      " 'rDbl.892' 'rDbl.893' 'rDbl.894' 'rDbl.895' 'rDbl.896' 'rDbl.897'\n",
      " 'rDbl.898' 'rDbl.899' 'rDbl.900' 'rDbl.901' 'rDbl.902' 'rDbl.903'\n",
      " 'rDbl.904' 'rDbl.905' 'rDbl.906' 'rDbl.907' 'rDbl.908' 'rDbl.909'\n",
      " 'rDbl.910' 'rDbl.911' 'rDbl.912' 'rDbl.913' 'rDbl.914' 'rDbl.915'\n",
      " 'rDbl.916' 'rDbl.917' 'rDbl.918' 'rDbl.919' 'rDbl.920' 'rDbl.921'\n",
      " 'rDbl.922' 'rDbl.923' 'rDbl.924' 'rDbl.925' 'rDbl.926' 'rDbl.927'\n",
      " 'rDbl.928' 'rDbl.929' 'rDbl.930' 'rDbl.931' 'rDbl.932' 'rDbl.933'\n",
      " 'rDbl.934' 'rDbl.935' 'rDbl.936' 'rDbl.937']\n"
     ]
    }
   ],
   "source": [
    "print(\"names\", names)"
   ]
  },
  {
   "cell_type": "markdown",
   "id": "c2d10290-eae9-4618-b16e-530677f0d915",
   "metadata": {},
   "source": [
    "#### Checking `bdata`"
   ]
  },
  {
   "cell_type": "code",
   "execution_count": 17,
   "id": "87993680-65d5-4697-b771-ca45a04d2d38",
   "metadata": {},
   "outputs": [
    {
     "name": "stdout",
     "output_type": "stream",
     "text": [
      "<Compressed Sparse Column sparse matrix of dtype 'float32'\n",
      "\twith 7534568 stored elements and shape (9375, 36530)>\n",
      "  Coords\tValues\n",
      "  (61, 0)\t1.0\n",
      "  (4455, 0)\t1.0\n",
      "  (4613, 0)\t1.0\n",
      "  (5255, 0)\t1.0\n",
      "  (587, 3)\t1.0\n",
      "  (3198, 3)\t1.0\n",
      "  (3361, 3)\t1.0\n",
      "  (4274, 3)\t1.0\n",
      "  (5514, 3)\t1.0\n",
      "  (4259, 8)\t1.0\n",
      "  (5311, 8)\t1.0\n",
      "  (17, 11)\t1.0\n",
      "  (29, 11)\t1.0\n",
      "  (1175, 11)\t1.0\n",
      "  (1361, 11)\t1.0\n",
      "  (1461, 11)\t1.0\n",
      "  (1905, 11)\t1.0\n",
      "  (1937, 11)\t1.0\n",
      "  (2031, 11)\t1.0\n",
      "  (2362, 11)\t1.0\n",
      "  (2376, 11)\t1.0\n",
      "  (2396, 11)\t1.0\n",
      "  (2521, 11)\t1.0\n",
      "  (2783, 11)\t1.0\n",
      "  (2885, 11)\t1.0\n",
      "  :\t:\n",
      "  (4975, 36529)\t1.0\n",
      "  (5020, 36529)\t1.0\n",
      "  (5097, 36529)\t1.0\n",
      "  (5214, 36529)\t1.0\n",
      "  (5250, 36529)\t1.0\n",
      "  (5348, 36529)\t1.0\n",
      "  (5746, 36529)\t1.0\n",
      "  (6132, 36529)\t1.0\n",
      "  (6244, 36529)\t1.0\n",
      "  (6347, 36529)\t1.0\n",
      "  (6804, 36529)\t1.0\n",
      "  (6866, 36529)\t1.0\n",
      "  (7108, 36529)\t2.0\n",
      "  (7114, 36529)\t1.0\n",
      "  (7298, 36529)\t1.0\n",
      "  (7447, 36529)\t1.0\n",
      "  (7578, 36529)\t1.0\n",
      "  (7662, 36529)\t1.0\n",
      "  (7718, 36529)\t1.0\n",
      "  (7870, 36529)\t1.0\n",
      "  (8148, 36529)\t1.0\n",
      "  (8195, 36529)\t1.0\n",
      "  (8221, 36529)\t1.0\n",
      "  (8613, 36529)\t1.0\n",
      "  (9356, 36529)\t1.0\n"
     ]
    }
   ],
   "source": [
    "print(bdata.X)"
   ]
  },
  {
   "cell_type": "markdown",
   "id": "76b58d7f-c05f-4d0c-979c-d409fecc8782",
   "metadata": {},
   "source": [
    "#### Creating `pseudo_doublet_adata`"
   ]
  },
  {
   "cell_type": "code",
   "execution_count": 18,
   "id": "fa5377d5-1dcc-4ae9-8ac9-7b12d8b23fe4",
   "metadata": {},
   "outputs": [],
   "source": [
    "import anndata\n",
    "pseudo_doublet_adata = anndata.AnnData(pd_count_matrix)\n",
    "pseudo_doublet_adata = pseudo_doublet_adata.T\n",
    "pseudo_doublet_adata.obs_names = names\n",
    "pseudo_doublet_adata.var_names = bdata.var_names\n",
    "pseudo_doublet_adata.obs[\"doublet\"] = 1.0"
   ]
  },
  {
   "cell_type": "code",
   "execution_count": 19,
   "id": "7fd1adde-a234-4808-8b26-4cca8bd866bf",
   "metadata": {},
   "outputs": [
    {
     "name": "stdout",
     "output_type": "stream",
     "text": [
      "(937, 36530)\n",
      "Index(['rDbl.1', 'rDbl.2', 'rDbl.3', 'rDbl.4', 'rDbl.5', 'rDbl.6', 'rDbl.7',\n",
      "       'rDbl.8', 'rDbl.9', 'rDbl.10',\n",
      "       ...\n",
      "       'rDbl.928', 'rDbl.929', 'rDbl.930', 'rDbl.931', 'rDbl.932', 'rDbl.933',\n",
      "       'rDbl.934', 'rDbl.935', 'rDbl.936', 'rDbl.937'],\n",
      "      dtype='object', length=937)\n",
      "Index(['LOC139071432', 'LOC139071438', 'LOC139072265', 'LOC107385520',\n",
      "       'LOC129157067', 'LOC139072266', 'LOC139070601', 'LOC129164336',\n",
      "       'LOC139072245', 'LOC139063175',\n",
      "       ...\n",
      "       'KEG92_t17', 'KEG92_t18', 'KEG92_t19', 'KEG92_p03', 'KEG92_p02',\n",
      "       'KEG92_t20', 'KEG92_p01', 'KEG92_t21', 'KEG92_t22', 'KEG92_t23'],\n",
      "      dtype='object', length=36530)\n",
      "          doublet\n",
      "rDbl.1        1.0\n",
      "rDbl.2        1.0\n",
      "rDbl.3        1.0\n",
      "rDbl.4        1.0\n",
      "rDbl.5        1.0\n",
      "...           ...\n",
      "rDbl.933      1.0\n",
      "rDbl.934      1.0\n",
      "rDbl.935      1.0\n",
      "rDbl.936      1.0\n",
      "rDbl.937      1.0\n",
      "\n",
      "[937 rows x 1 columns]\n",
      "<Compressed Sparse Row sparse matrix of dtype 'float64'\n",
      "\twith 1324989 stored elements and shape (937, 36530)>\n",
      "  Coords\tValues\n",
      "  (0, 44)\t1.0\n",
      "  (0, 50)\t2.0\n",
      "  (0, 65)\t1.0\n",
      "  (0, 74)\t1.0\n",
      "  (0, 79)\t2.0\n",
      "  (0, 93)\t1.0\n",
      "  (0, 104)\t1.0\n",
      "  (0, 116)\t1.0\n",
      "  (0, 127)\t1.0\n",
      "  (0, 154)\t1.0\n",
      "  (0, 179)\t3.0\n",
      "  (0, 180)\t1.0\n",
      "  (0, 195)\t1.0\n",
      "  (0, 229)\t1.0\n",
      "  (0, 233)\t2.0\n",
      "  (0, 238)\t1.0\n",
      "  (0, 269)\t1.0\n",
      "  (0, 272)\t1.0\n",
      "  (0, 273)\t1.0\n",
      "  (0, 299)\t2.0\n",
      "  (0, 300)\t1.0\n",
      "  (0, 322)\t1.0\n",
      "  (0, 337)\t1.0\n",
      "  (0, 373)\t1.0\n",
      "  (0, 403)\t1.0\n",
      "  :\t:\n",
      "  (936, 34664)\t0.5\n",
      "  (936, 34665)\t1.5\n",
      "  (936, 34666)\t1.0\n",
      "  (936, 34671)\t0.5\n",
      "  (936, 34674)\t0.5\n",
      "  (936, 34675)\t0.5\n",
      "  (936, 34707)\t0.5\n",
      "  (936, 34779)\t1.5\n",
      "  (936, 34791)\t0.5\n",
      "  (936, 34892)\t0.5\n",
      "  (936, 35553)\t0.5\n",
      "  (936, 35555)\t0.5\n",
      "  (936, 35697)\t0.5\n",
      "  (936, 36262)\t0.5\n",
      "  (936, 36310)\t0.5\n",
      "  (936, 36493)\t36.0\n",
      "  (936, 36495)\t27.5\n",
      "  (936, 36497)\t2.0\n",
      "  (936, 36501)\t3.0\n",
      "  (936, 36507)\t1.0\n",
      "  (936, 36510)\t8.5\n",
      "  (936, 36513)\t3.5\n",
      "  (936, 36514)\t3.0\n",
      "  (936, 36519)\t2.0\n",
      "  (936, 36526)\t1.5\n"
     ]
    }
   ],
   "source": [
    "print(pseudo_doublet_adata.shape)\n",
    "print(pseudo_doublet_adata.obs_names)\n",
    "print(pseudo_doublet_adata.var_names)\n",
    "print(pseudo_doublet_adata.obs)\n",
    "print(pseudo_doublet_adata.X)"
   ]
  },
  {
   "cell_type": "markdown",
   "id": "88820f55-4076-4000-a36b-e8ba51a337b8",
   "metadata": {},
   "source": [
    "#### Concatenating adata objects"
   ]
  },
  {
   "cell_type": "code",
   "execution_count": 20,
   "id": "51ca65da-ef3c-42db-bde6-b25386bc0d8d",
   "metadata": {},
   "outputs": [],
   "source": [
    "adata_combined = anndata.concat([pseudo_doublet_adata, bdata], axis=0, join=\"inner\")"
   ]
  },
  {
   "cell_type": "code",
   "execution_count": 21,
   "id": "1b15b4e7-4dba-4ee0-a396-d4d3055c39c1",
   "metadata": {},
   "outputs": [
    {
     "name": "stdout",
     "output_type": "stream",
     "text": [
      "(10312, 36530)\n"
     ]
    }
   ],
   "source": [
    "print(adata_combined.shape)"
   ]
  },
  {
   "cell_type": "code",
   "execution_count": 22,
   "id": "45a97f1d-70ba-4f31-993c-aeb78a72fd89",
   "metadata": {},
   "outputs": [
    {
     "name": "stdout",
     "output_type": "stream",
     "text": [
      "Empty DataFrame\n",
      "Columns: []\n",
      "Index: [rDbl.1, rDbl.2, rDbl.3, rDbl.4, rDbl.5, rDbl.6, rDbl.7, rDbl.8, rDbl.9, rDbl.10, rDbl.11, rDbl.12, rDbl.13, rDbl.14, rDbl.15, rDbl.16, rDbl.17, rDbl.18, rDbl.19, rDbl.20, rDbl.21, rDbl.22, rDbl.23, rDbl.24, rDbl.25, rDbl.26, rDbl.27, rDbl.28, rDbl.29, rDbl.30, rDbl.31, rDbl.32, rDbl.33, rDbl.34, rDbl.35, rDbl.36, rDbl.37, rDbl.38, rDbl.39, rDbl.40, rDbl.41, rDbl.42, rDbl.43, rDbl.44, rDbl.45, rDbl.46, rDbl.47, rDbl.48, rDbl.49, rDbl.50, rDbl.51, rDbl.52, rDbl.53, rDbl.54, rDbl.55, rDbl.56, rDbl.57, rDbl.58, rDbl.59, rDbl.60, rDbl.61, rDbl.62, rDbl.63, rDbl.64, rDbl.65, rDbl.66, rDbl.67, rDbl.68, rDbl.69, rDbl.70, rDbl.71, rDbl.72, rDbl.73, rDbl.74, rDbl.75, rDbl.76, rDbl.77, rDbl.78, rDbl.79, rDbl.80, rDbl.81, rDbl.82, rDbl.83, rDbl.84, rDbl.85, rDbl.86, rDbl.87, rDbl.88, rDbl.89, rDbl.90, rDbl.91, rDbl.92, rDbl.93, rDbl.94, rDbl.95, rDbl.96, rDbl.97, rDbl.98, rDbl.99, rDbl.100, ...]\n",
      "\n",
      "[10312 rows x 0 columns]\n",
      "Empty DataFrame\n",
      "Columns: []\n",
      "Index: [LOC139071432, LOC139071438, LOC139072265, LOC107385520, LOC129157067, LOC139072266, LOC139070601, LOC129164336, LOC139072245, LOC139063175, LOC139064302, LOC139072279, LOC139066147, LOC139066325, LOC139071441, LOC139067072, LOC139072269, LOC129159217, LOC139072271, LOC139071443, LOC139071444, LOC139068889, LOC139069574, LOC139069678, LOC139069745, LOC139069880, LOC139070064, LOC139071638, LOC139071498, LOC139071724, LOC139071563, LOC129160216, LOC129160091, LOC107372990, LOC107374007, LOC129160768, LOC107373397, LOC139071445, LOC139070783, LOC139070785, LOC139061825, LOC139061700, LOC139062201, LOC139070786, acsl4a, nxt2, psmd10, xiap, stag2b, LOC139063719, efnb1, LOC139063402, LOC139063644, LOC129162026, LOC129162032, LOC107378241, LOC107379485, zc4h2, LOC107380808, asb12b, LOC129161924, LOC139072247, LOC139070789, LOC139071449, LOC139066172, tenm1, LOC139066346, LOC139066357, sh2d1ab, LOC107389596, apool, si:ch211-26b3.4, hdx, rps6kal, LOC107383029, LOC139061497, LOC107397113, si:dkey-237j10.2, sh3bgrl, LOC107374700, LOC107374845, tent5d, LOC139070790, tbx22, LOC107375096, gpr174, p2ry10, lpar4, cysltr1, LOC107375731, LOC139068864, polr1d, sybl1, mtus1a, pdgfrl, slc7a2, mtmr7a, cnot7, zdhhc2, micu3b, ...]\n",
      "\n",
      "[36530 rows x 0 columns]\n",
      "<Compressed Sparse Row sparse matrix of dtype 'float64'\n",
      "\twith 8859557 stored elements and shape (10312, 36530)>\n",
      "  Coords\tValues\n",
      "  (0, 44)\t1.0\n",
      "  (0, 50)\t2.0\n",
      "  (0, 65)\t1.0\n",
      "  (0, 74)\t1.0\n",
      "  (0, 79)\t2.0\n",
      "  (0, 93)\t1.0\n",
      "  (0, 104)\t1.0\n",
      "  (0, 116)\t1.0\n",
      "  (0, 127)\t1.0\n",
      "  (0, 154)\t1.0\n",
      "  (0, 179)\t3.0\n",
      "  (0, 180)\t1.0\n",
      "  (0, 195)\t1.0\n",
      "  (0, 229)\t1.0\n",
      "  (0, 233)\t2.0\n",
      "  (0, 238)\t1.0\n",
      "  (0, 269)\t1.0\n",
      "  (0, 272)\t1.0\n",
      "  (0, 273)\t1.0\n",
      "  (0, 299)\t2.0\n",
      "  (0, 300)\t1.0\n",
      "  (0, 322)\t1.0\n",
      "  (0, 337)\t1.0\n",
      "  (0, 373)\t1.0\n",
      "  (0, 403)\t1.0\n",
      "  :\t:\n",
      "  (10311, 34161)\t1.0\n",
      "  (10311, 34169)\t1.0\n",
      "  (10311, 34324)\t1.0\n",
      "  (10311, 34344)\t1.0\n",
      "  (10311, 34400)\t1.0\n",
      "  (10311, 34492)\t1.0\n",
      "  (10311, 34524)\t2.0\n",
      "  (10311, 34555)\t1.0\n",
      "  (10311, 34557)\t1.0\n",
      "  (10311, 34558)\t2.0\n",
      "  (10311, 34588)\t1.0\n",
      "  (10311, 34622)\t1.0\n",
      "  (10311, 34634)\t2.0\n",
      "  (10311, 34646)\t1.0\n",
      "  (10311, 34664)\t1.0\n",
      "  (10311, 34665)\t2.0\n",
      "  (10311, 34666)\t1.0\n",
      "  (10311, 34674)\t2.0\n",
      "  (10311, 34759)\t1.0\n",
      "  (10311, 34901)\t1.0\n",
      "  (10311, 36262)\t1.0\n",
      "  (10311, 36493)\t1.0\n",
      "  (10311, 36495)\t3.0\n",
      "  (10311, 36510)\t1.0\n",
      "  (10311, 36526)\t1.0\n"
     ]
    }
   ],
   "source": [
    "print(adata_combined.obs)\n",
    "print(adata_combined.var)\n",
    "print(adata_combined.X)"
   ]
  },
  {
   "cell_type": "code",
   "execution_count": 23,
   "id": "246c0fd6-5a58-4f07-ab3f-7ea916111af3",
   "metadata": {},
   "outputs": [],
   "source": [
    "adata_combined.write(\"pseudo_doublets_sc85_3g_2.0.h5ad\")"
   ]
  },
  {
   "cell_type": "markdown",
   "id": "d71f2377-8f8b-46ab-98b4-8be45c34cb2d",
   "metadata": {},
   "source": [
    "### Exporting Pseudo Doublets"
   ]
  },
  {
   "cell_type": "code",
   "execution_count": 24,
   "id": "25a9f697-46e6-47ae-85a4-9d88533003c6",
   "metadata": {},
   "outputs": [],
   "source": [
    "with open(\"./sc85_3g_IDs/pseudo_sc85_3g_2.0_ids.txt\", \"w\") as txt_file:\n",
    "    for cell in names:\n",
    "        txt_file.write(cell + \"\\n\")"
   ]
  },
  {
   "cell_type": "code",
   "execution_count": null,
   "id": "02b5b0ca-1c16-441b-aa1b-eeceb4ff6908",
   "metadata": {},
   "outputs": [],
   "source": []
  }
 ],
 "metadata": {
  "kernelspec": {
   "display_name": "Python 3 (ipykernel)",
   "language": "python",
   "name": "python3"
  },
  "language_info": {
   "codemirror_mode": {
    "name": "ipython",
    "version": 3
   },
   "file_extension": ".py",
   "mimetype": "text/x-python",
   "name": "python",
   "nbconvert_exporter": "python",
   "pygments_lexer": "ipython3",
   "version": "3.10.0"
  }
 },
 "nbformat": 4,
 "nbformat_minor": 5
}
